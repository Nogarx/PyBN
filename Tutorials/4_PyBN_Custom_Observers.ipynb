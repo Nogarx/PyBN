{
 "cells": [
  {
   "cell_type": "markdown",
   "id": "a0bb6e01",
   "metadata": {},
   "source": [
    "# Custom Observers"
   ]
  },
  {
   "cell_type": "markdown",
   "id": "acbc8461",
   "metadata": {},
   "source": [
    "Observers are at the heart of PyBN, but unfortunately it is not possible to define a recipe for everyones needs, but we built the system flexible enough that anybody can design its own observer. For simplicity of reading of this section we will recurr to a Jupyter Notebook trick to define a class along multiple code blocks. All observers derive from the class Observer."
   ]
  },
  {
   "cell_type": "code",
   "execution_count": 1,
   "id": "51b31d39",
   "metadata": {},
   "outputs": [],
   "source": [
    "from pybn.observers import Observer\n",
    "import numpy as np"
   ]
  },
  {
   "cell_type": "markdown",
   "id": "09271c3c",
   "metadata": {},
   "source": [
    "For this tutorial we will create an observer that just adds the state of each node in the network at each timestep and the observation is the average of such quantity. The first step is thus making our custom observer to derive from it and define the __init__ method. We will add the tag REQUIRED when the observer must have an implementation of that function."
   ]
  },
  {
   "cell_type": "code",
   "execution_count": 2,
   "id": "d788ab02",
   "metadata": {},
   "outputs": [],
   "source": [
    "class MyCustomObserver(Observer):\n",
    "    #REQUIRED.\n",
    "    def __init__(self, nodes=1, runs=1, base=2):\n",
    "        # The parameter runs is important to preallocate the necessary memory, \n",
    "        # preventing unnecesary memory re-allocations each time.\n",
    "        self.runs = runs\n",
    "        # The current_run counter. It is initialized with -1 by convetion.\n",
    "        self.current_run = -1\n",
    "        # Base refers to the base used for fuzzy networks, in some cases it \n",
    "        # is necessary to have this parameter to do some calculations.\n",
    "        self.base = base\n",
    "        # The size of the network.\n",
    "        self.nodes = nodes\n",
    "        # The counter is used to compute the final average of a single run.\n",
    "        self.counter = 0\n",
    "        # Data is where the observer will be storing all the data.\n",
    "        self.data = np.zeros((self.runs, self.nodes))\n",
    "        # Aditional variables may be declared if needed.\n",
    "        self.table = np.zeros((self.nodes))\n",
    "        self.table_requires_update = False"
   ]
  },
  {
   "cell_type": "markdown",
   "id": "127341c0",
   "metadata": {},
   "source": [
    "We also need to declare a custom method to build this observer from a configuration file."
   ]
  },
  {
   "cell_type": "code",
   "execution_count": 3,
   "id": "88a2af1a",
   "metadata": {},
   "outputs": [],
   "source": [
    "class MyCustomObserver(MyCustomObserver):\n",
    "    #REQUIRED.\n",
    "    @classmethod\n",
    "    def from_configuration(cls, configuration):\n",
    "        return cls(\n",
    "            nodes=configuration['parameters']['nodes'],  \n",
    "            runs=configuration['execution']['samples'],\n",
    "            base=configuration['parameters']['base'])"
   ]
  },
  {
   "cell_type": "markdown",
   "id": "97146643",
   "metadata": {},
   "source": [
    "We need to declare methods to clear after each run and to reset the observer to is default value. process_table is an auxiliary function that the observer does not require but it will help us later to do some final calculations at the end of the run."
   ]
  },
  {
   "cell_type": "code",
   "execution_count": 4,
   "id": "50973601",
   "metadata": {},
   "outputs": [],
   "source": [
    "class MyCustomObserver(MyCustomObserver):\n",
    "    #REQUIRED.\n",
    "    def clear(self):\n",
    "        # This function is called each time the networks starts a new run.\n",
    "        if (self.table_requires_update):\n",
    "            self.process_table()\n",
    "        self.table = np.zeros((self.nodes))\n",
    "        self.current_run += 1\n",
    "        self.counter = 0\n",
    "        \n",
    "        # The next three lines allows us to expand the storage of the observer if needed.\n",
    "        # This lines prevents some errors when running out of space to store new values.\n",
    "        if (self.current_run == self.runs):\n",
    "            self.runs += 1\n",
    "            self.data = np.append(self.data, np.zeros((1,self.nodes)), axis=0)\n",
    "\n",
    "    #REQUIRED.\n",
    "    def reset(self):\n",
    "        # This function is called by the user when it wants to reset the observer to default.\n",
    "        # Most of the time will be called from network.reset_observers().\n",
    "        self.counter = 0\n",
    "        self.current_run = -1\n",
    "        self.table_requires_update = False\n",
    "        self.data = np.zeros((self.runs, self.nodes))\n",
    "        self.table = np.zeros((self.nodes))"
   ]
  },
  {
   "cell_type": "markdown",
   "id": "97f0dec0",
   "metadata": {},
   "source": [
    "The most important method is update."
   ]
  },
  {
   "cell_type": "code",
   "execution_count": 5,
   "id": "e232f3c4",
   "metadata": {},
   "outputs": [],
   "source": [
    "class MyCustomObserver(MyCustomObserver):\n",
    "    #REQUIRED.\n",
    "    def update(self, state):\n",
    "        # Iterate through all nodes at time step t.\n",
    "        for i in range(len(state)):\n",
    "            # Add the value of that state.\n",
    "            self.table[i] += state[i]\n",
    "        # Increase the timestep counter.\n",
    "        self.counter += 1\n",
    "        # Set the table_requires_update to true.\n",
    "        self.table_requires_update = True"
   ]
  },
  {
   "cell_type": "markdown",
   "id": "db732683",
   "metadata": {},
   "source": [
    "We will also add a few methods that will help the calculations."
   ]
  },
  {
   "cell_type": "code",
   "execution_count": 6,
   "id": "2072aab7",
   "metadata": {},
   "outputs": [],
   "source": [
    "class MyCustomObserver(MyCustomObserver):\n",
    "    #AUXILIAR.\n",
    "    def process_table(self):\n",
    "        # Average all the values and store it in self.data.\n",
    "        self.data[self.current_run] = self.table / self.counter \n",
    "        \n",
    "    #AUXILIAR.\n",
    "    def compute_data(self):\n",
    "        if (self.table_requires_update):\n",
    "            self.process_table()\n",
    "        mean_sum = np.mean(self.data)\n",
    "        std_sum = np.std(self.data)\n",
    "        mean_sum_per_node = np.mean(self.data, axis=0)\n",
    "        std_sum_per_node = np.std(self.data, axis=0)\n",
    "        return mean_sum, std_sum, mean_sum_per_node, std_sum_per_node"
   ]
  },
  {
   "cell_type": "markdown",
   "id": "3fccf910",
   "metadata": {},
   "source": [
    "Finally we just need to define the method summary to recover the data the observer is calculating. This method just needs to print the information back to the you in a readble format. You can also use multiple prints if you prefer."
   ]
  },
  {
   "cell_type": "code",
   "execution_count": 7,
   "id": "d5c82f25",
   "metadata": {},
   "outputs": [],
   "source": [
    "class MyCustomObserver(MyCustomObserver):\n",
    "    #REQUIRED.\n",
    "    def summary(self, precision=3):\n",
    "        # Final computation of the data.\n",
    "        mean_sum, std_sum, mean_sum_per_node, std_sum_per_node = self.compute_data()\n",
    "        # Write the summary.\n",
    "        summary = 'Network average sum:\\t' + f\"{mean_sum:.{precision}f}\" + ' ± ' + f\"{std_sum:.{precision}f}\" + '\\n' + 'Nodes average sum:\\n'\n",
    "        for i in range(self.nodes):\n",
    "            summary += f\"{mean_sum_per_node[i]:.{precision}f}\" + ' ± ' + f\"{std_sum_per_node[i]:.{precision}f}\" + ',\\t'\n",
    "            # The next to lines just add a new row of values each 5 nodes. Just to make the summary more readable.\n",
    "            if ((i+1)%5 == 0):\n",
    "                summary += '\\n'\n",
    "        # Print the summary.\n",
    "        print(summary)"
   ]
  },
  {
   "cell_type": "markdown",
   "id": "cf344a73",
   "metadata": {},
   "source": [
    "The summary writer has not been introduced and will not be since most of the time it will do the work if the observer is appropriately defined. The important thing to say about it is that it is in charge of writing the results of the experiments to files. We will need to declare two functions. The first one is just a practically the same that the summary function with a better format for data storage. The program expects two different outputs: one when we are only interested in the general behaviour and one when we are interested in each node behaviour. By convention we store the data [mean, std] for the former case and [mean_node_0, std_node_0, ..., mean_node_k, std_node_k] for the later case. Feel free to ignore this convention but a custom data reader may be required in such case."
   ]
  },
  {
   "cell_type": "code",
   "execution_count": 8,
   "id": "1608f223",
   "metadata": {},
   "outputs": [],
   "source": [
    "class MyCustomObserver(MyCustomObserver):\n",
    "    #REQUIRED.\n",
    "    def file_summary(self, per_node=False, precision=6):\n",
    "        # Final computation of the data.\n",
    "        mean_sum, std_sum, mean_sum_per_node, std_sum_per_node = self.compute_data()\n",
    "        # Write the summary.\n",
    "        \n",
    "        if (per_node):\n",
    "            summary = []\n",
    "            for i in range(self.nodes):\n",
    "                summary = f'{mean_sum_per_node[i]:.{precision}f},{std_sum_per_node[i]:.{precision}f},'\n",
    "            summary = ''.join(summary)\n",
    "        else:\n",
    "            summary = f'{mean_sum:.{precision}f},{std_sum:.{precision}f},'\n",
    "\n",
    "        # A list of tuples for each data the observer will compute.\n",
    "        # The first entry is for the name of the observation.\n",
    "        # This name is important since it will be used for the execution module to name the files.\n",
    "        return [('average_sum', summary)]"
   ]
  },
  {
   "cell_type": "markdown",
   "id": "14c7b3c1",
   "metadata": {},
   "source": [
    "The reason behind the second one is rather obscure but it is required when we do parallel calculations and all it does is to ensures that all data is passed correctly to the summary writer. All that this function needs to do is to ensure you have all the variables pre computed when you call file_summary. If your observer you dont need to precompute anything feel free to declare a dummy function."
   ]
  },
  {
   "cell_type": "code",
   "execution_count": 9,
   "id": "29762278",
   "metadata": {},
   "outputs": [],
   "source": [
    "class MyCustomObserver(MyCustomObserver):\n",
    "    #REQUIRED.\n",
    "    def pre_summary_writer(self):\n",
    "        self.process_table()\n",
    "        self.table_requires_update = False"
   ]
  },
  {
   "cell_type": "markdown",
   "id": "6f631ee4",
   "metadata": {},
   "source": [
    "That's it, our custom observer is properly defined."
   ]
  },
  {
   "cell_type": "markdown",
   "id": "11e17f3b",
   "metadata": {},
   "source": [
    "# Testing the custom observer"
   ]
  },
  {
   "cell_type": "code",
   "execution_count": 10,
   "id": "52e90a33",
   "metadata": {},
   "outputs": [],
   "source": [
    "from pybn.graphs import uniform_graph\n",
    "from pybn.networks import BooleanNetwork"
   ]
  },
  {
   "cell_type": "markdown",
   "id": "f5defc8a",
   "metadata": {},
   "source": [
    "Lets define a small network that only perform a few steps in order to visually compare the result of the observer with the state evolution of the network."
   ]
  },
  {
   "cell_type": "code",
   "execution_count": 11,
   "id": "eba31e38",
   "metadata": {},
   "outputs": [],
   "source": [
    "nodes = 8\n",
    "steps = 5\n",
    "average_connectivity = 3.1\n",
    "\n",
    "graph = uniform_graph(nodes, average_connectivity)\n",
    "network = BooleanNetwork(nodes, graph)"
   ]
  },
  {
   "cell_type": "code",
   "execution_count": 12,
   "id": "e1f3b006",
   "metadata": {},
   "outputs": [
    {
     "data": {
      "text/plain": [
       "<__main__.MyCustomObserver at 0x7f9ae5ef17f0>"
      ]
     },
     "execution_count": 12,
     "metadata": {},
     "output_type": "execute_result"
    }
   ],
   "source": [
    "MyCustomObserver(nodes=nodes)"
   ]
  },
  {
   "cell_type": "markdown",
   "id": "b357eed7",
   "metadata": {},
   "source": [
    "Instantiate and attach the observer."
   ]
  },
  {
   "cell_type": "code",
   "execution_count": 13,
   "id": "b48199b8",
   "metadata": {},
   "outputs": [],
   "source": [
    "observers = [MyCustomObserver(nodes=nodes)] \n",
    "network.attach_observers(observers)"
   ]
  },
  {
   "cell_type": "markdown",
   "id": "b4b70efc",
   "metadata": {},
   "source": [
    "Perform one small execution and print the states."
   ]
  },
  {
   "cell_type": "code",
   "execution_count": 14,
   "id": "dead9009",
   "metadata": {},
   "outputs": [
    {
     "name": "stdout",
     "output_type": "stream",
     "text": [
      "[1 0 1 0 1 0 1 1]\n",
      "[0 1 0 1 0 1 0 1]\n",
      "[0 0 1 1 0 0 1 1]\n",
      "[0 0 0 1 0 1 1 0]\n",
      "[0 1 1 1 0 1 1 0]\n",
      "[1 0 1 1 0 0 1 1]\n"
     ]
    }
   ],
   "source": [
    "# Set a random initial state.\n",
    "network.set_initial_state(observe=True)\n",
    "print(network.state)\n",
    "# Perform several steps.\n",
    "for _ in range(steps):\n",
    "    network.step(observe=True)\n",
    "    print(network.state)"
   ]
  },
  {
   "cell_type": "markdown",
   "id": "19ecc3bf",
   "metadata": {},
   "source": [
    "Print the observers summary."
   ]
  },
  {
   "cell_type": "code",
   "execution_count": 15,
   "id": "48900874",
   "metadata": {},
   "outputs": [
    {
     "name": "stdout",
     "output_type": "stream",
     "text": [
      "Network average sum:\t0.542 ± 0.232\n",
      "Nodes average sum:\n",
      "0.333 ± 0.000,\t0.333 ± 0.000,\t0.667 ± 0.000,\t0.833 ± 0.000,\t0.167 ± 0.000,\t\n",
      "0.500 ± 0.000,\t0.833 ± 0.000,\t0.667 ± 0.000,\t\n"
     ]
    }
   ],
   "source": [
    "# Get observer's summary.    \n",
    "network.observers_summary()"
   ]
  }
 ],
 "metadata": {
  "kernelspec": {
   "display_name": "Python 3",
   "language": "python",
   "name": "python3"
  },
  "language_info": {
   "codemirror_mode": {
    "name": "ipython",
    "version": 3
   },
   "file_extension": ".py",
   "mimetype": "text/x-python",
   "name": "python",
   "nbconvert_exporter": "python",
   "pygments_lexer": "ipython3",
   "version": "3.8.5"
  }
 },
 "nbformat": 4,
 "nbformat_minor": 5
}