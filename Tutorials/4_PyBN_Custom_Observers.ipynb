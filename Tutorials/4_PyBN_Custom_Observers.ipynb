{
 "cells": [
  {
   "cell_type": "markdown",
   "id": "6fe3b5cb",
   "metadata": {},
   "source": [
    "# Custom Observers"
   ]
  },
  {
   "cell_type": "markdown",
   "id": "eeeb4aaa",
   "metadata": {},
   "source": [
    "Observers are at the heart of PyBN, but unfortunately it is not possible to define a recipe for everyones needs, but we built the system flexible enough that anybody can design its own observer. For simplicity of reading of this section we will recurr to a Jupyter Notebook trick to define a class along multiple code blocks. All observers derive from the class Observer."
   ]
  },
  {
   "cell_type": "code",
   "execution_count": 1,
   "id": "02bf0ec4",
   "metadata": {},
   "outputs": [],
   "source": [
    "from pybn.observers import Observer\n",
    "import numpy as np"
   ]
  },
  {
   "cell_type": "markdown",
   "id": "e90d6807",
   "metadata": {},
   "source": [
    "For this tutorial we will create an observer that just adds the state of each node in the network at each timestep and the observation is the average of such quantity. The first step is thus making our custom observer to derive from it and define the __init__ method. We will add the tag REQUIRED when the observer must have an implementation of that function."
   ]
  },
  {
   "cell_type": "code",
   "execution_count": 2,
   "id": "a82da31a",
   "metadata": {},
   "outputs": [],
   "source": [
    "class MyCustomObserver(Observer):\n",
    "    #REQUIRED.\n",
    "    def __init__(self, nodes=1, runs=1):\n",
    "        # Always call the constructor for the parent class.\n",
    "        super().__init__(nodes=nodes, runs=runs)\n",
    "        \n",
    "        # Observations is used to declare the number and the name of the observations the observer will return.\n",
    "        # This will also be the name used for the file within the execution module. \n",
    "        # Thus, it is important to not repeat the names for the observartions.\n",
    "        self.observations = ['average_sum']\n",
    "        \n",
    "        # Data is where the observer will be storing all the data.\n",
    "        # This variable is defined in the super class but may be modified if needed, \n",
    "        # but the first dimension of this variable must be number of runs.\n",
    "        # self.data = np.zeros((self.runs, self.nodes))\n",
    "        \n",
    "        # Aditional variables may be declared if needed.\n",
    "        self.table = np.zeros((self.nodes))\n",
    "        self.table_requires_update = False"
   ]
  },
  {
   "cell_type": "markdown",
   "id": "4d1d0cc0",
   "metadata": {},
   "source": [
    "We also need to declare a custom method to build this observer from a configuration file."
   ]
  },
  {
   "cell_type": "code",
   "execution_count": 3,
   "id": "deee0e91",
   "metadata": {},
   "outputs": [],
   "source": [
    "class MyCustomObserver(MyCustomObserver):\n",
    "    #REQUIRED.\n",
    "    @classmethod\n",
    "    def from_configuration(cls, configuration):\n",
    "        return cls(\n",
    "            nodes=configuration['parameters']['nodes'],  \n",
    "            runs=configuration['execution']['samples'])"
   ]
  },
  {
   "cell_type": "markdown",
   "id": "3d1775fb",
   "metadata": {},
   "source": [
    "We need to declare methods to clear the temporal variables after each run and to reset the observer to is default value. Only custom variables need to be modified."
   ]
  },
  {
   "cell_type": "code",
   "execution_count": 4,
   "id": "45e9e8aa",
   "metadata": {},
   "outputs": [],
   "source": [
    "class MyCustomObserver(MyCustomObserver):\n",
    "    #REQUIRED.\n",
    "    def clear(self):\n",
    "        # This function is called each time the networks starts a new run.\n",
    "        # Its function is to reset al temporal variables.\n",
    "        self.table = np.zeros((self.nodes))\n",
    "        \n",
    "        # Always call post_clear() at the end of clear.\n",
    "        self.post_clear()\n",
    "\n",
    "    #REQUIRED.\n",
    "    def reset(self):\n",
    "        # This function is called by the user when it wants to reset the observer to default.\n",
    "        # Most of the time will be called from network.reset_observers().\n",
    "        self.table = np.zeros((self.nodes))\n",
    "        \n",
    "        # Always call post_reset() at the end of clear.\n",
    "        # self.data is reseted here.\n",
    "        self.post_reset()"
   ]
  },
  {
   "cell_type": "markdown",
   "id": "e1d617f5",
   "metadata": {},
   "source": [
    "The most important method is update. This is the data entry point."
   ]
  },
  {
   "cell_type": "code",
   "execution_count": 5,
   "id": "5a19e8f0",
   "metadata": {},
   "outputs": [],
   "source": [
    "class MyCustomObserver(MyCustomObserver):\n",
    "    #REQUIRED.\n",
    "    def update(self, state):\n",
    "        # Iterate through all nodes at time step t.\n",
    "        for i in range(len(state)):\n",
    "            # Add the value of that state.\n",
    "            self.table[i] += state[i]\n",
    "        \n",
    "        # Always call post_update() at the end of clear.\n",
    "        self.post_update()"
   ]
  },
  {
   "cell_type": "markdown",
   "id": "1e6b52a6",
   "metadata": {},
   "source": [
    "We also need to define a method that process all the data, for this case we just need to divide the sum and the number of states the observer has seen (self.counter)."
   ]
  },
  {
   "cell_type": "code",
   "execution_count": 6,
   "id": "8f155838",
   "metadata": {},
   "outputs": [],
   "source": [
    "class MyCustomObserver(MyCustomObserver):\n",
    "    #REQUIRED.\n",
    "    def process_data(self):\n",
    "        # Average all the values and store it in self.data.\n",
    "        self.data[self.current_run] = self.table / self.counter "
   ]
  },
  {
   "cell_type": "markdown",
   "id": "549682af",
   "metadata": {},
   "source": [
    "Finally we just need to define the method observations_to_data to recover the data the observer is calculating. This method helps the observer to parse data and format it back to the you in a readble format. This method needs to be defined for two cases, the average of the network and the per node case. We will also add a few methods that will help the calculations. You may declare as many of these as necessary."
   ]
  },
  {
   "cell_type": "code",
   "execution_count": 7,
   "id": "b9e9569f",
   "metadata": {},
   "outputs": [],
   "source": [
    "class MyCustomObserver(MyCustomObserver):\n",
    "    #REQUIRED.\n",
    "    def observations_to_data(self, observation_name, per_node=False):\n",
    "        if (observation_name == self.observations[0]):\n",
    "            return self.observation_0(per_node=per_node)\n",
    "        # Add as many cases as necessary\n",
    "        # elif(observation_name == self.observations[1]):\n",
    "        #     return self.observation_1(per_node=per_node)\n",
    "        \n",
    "    #AUXILIAR.\n",
    "    # Here we are returning the mean and the std of the observation but in general you may define as many different quantities as you need.\n",
    "    # Just notice that they will be stored / printed as:\n",
    "    # (Network average) [network_quantity_0, ... ,network_quantity_k]\n",
    "    # (Per node) [node_0_quantity_0, ... ,node_0_quantity_k, node_1_quantity_0, ..., node_n_quantity_k]\n",
    "    def observation_0(self, per_node=False):\n",
    "        if (per_node):\n",
    "            return np.mean(self.data, axis=0), np.std(self.data, axis=0)\n",
    "        else:\n",
    "            return np.mean(self.data), np.std(self.data)"
   ]
  },
  {
   "cell_type": "markdown",
   "id": "2227830e",
   "metadata": {},
   "source": [
    "That's it, our custom observer is properly defined."
   ]
  },
  {
   "cell_type": "markdown",
   "id": "856bf002",
   "metadata": {},
   "source": [
    "# Testing the custom observer"
   ]
  },
  {
   "cell_type": "code",
   "execution_count": 8,
   "id": "44026503",
   "metadata": {},
   "outputs": [],
   "source": [
    "from pybn.graphs import uniform_graph\n",
    "from pybn.networks import BooleanNetwork"
   ]
  },
  {
   "cell_type": "markdown",
   "id": "d9d1ca74",
   "metadata": {},
   "source": [
    "Lets define a small network that only perform a few steps in order to visually compare the result of the observer with the state evolution of the network."
   ]
  },
  {
   "cell_type": "code",
   "execution_count": 9,
   "id": "6e63020d",
   "metadata": {},
   "outputs": [],
   "source": [
    "nodes = 8\n",
    "steps = 5\n",
    "average_connectivity = 3.1\n",
    "\n",
    "graph = uniform_graph(nodes, average_connectivity)\n",
    "network = BooleanNetwork(nodes, graph)"
   ]
  },
  {
   "cell_type": "code",
   "execution_count": 10,
   "id": "6d770353",
   "metadata": {},
   "outputs": [
    {
     "data": {
      "text/plain": [
       "<__main__.MyCustomObserver at 0x7f992c79ba90>"
      ]
     },
     "execution_count": 10,
     "metadata": {},
     "output_type": "execute_result"
    }
   ],
   "source": [
    "MyCustomObserver(nodes=nodes)"
   ]
  },
  {
   "cell_type": "markdown",
   "id": "e9c2ebc0",
   "metadata": {},
   "source": [
    "Instantiate and attach the observer."
   ]
  },
  {
   "cell_type": "code",
   "execution_count": 11,
   "id": "02e29a80",
   "metadata": {},
   "outputs": [],
   "source": [
    "observers = [MyCustomObserver(nodes=nodes)] \n",
    "network.attach_observers(observers)"
   ]
  },
  {
   "cell_type": "markdown",
   "id": "4e6b5786",
   "metadata": {},
   "source": [
    "Perform one small execution and print the states."
   ]
  },
  {
   "cell_type": "code",
   "execution_count": 12,
   "id": "e36e03db",
   "metadata": {},
   "outputs": [
    {
     "name": "stdout",
     "output_type": "stream",
     "text": [
      "[0 0 1 1 1 1 0 0]\n",
      "[0 1 1 1 1 0 0 1]\n",
      "[0 0 0 1 1 0 0 0]\n",
      "[0 0 0 0 1 0 0 1]\n",
      "[0 0 0 1 1 0 0 1]\n",
      "[0 0 0 0 1 0 0 1]\n"
     ]
    }
   ],
   "source": [
    "# Set a random initial state.\n",
    "network.set_initial_state(observe=True)\n",
    "print(network.state)\n",
    "# Perform several steps.\n",
    "for _ in range(steps):\n",
    "    network.step(observe=True)\n",
    "    print(network.state)"
   ]
  },
  {
   "cell_type": "markdown",
   "id": "f6b2bd99",
   "metadata": {},
   "source": [
    "Print the observers summary."
   ]
  },
  {
   "cell_type": "code",
   "execution_count": 13,
   "id": "8f6b93fc",
   "metadata": {},
   "outputs": [
    {
     "name": "stdout",
     "output_type": "stream",
     "text": [
      "Network average sum:\t0.375 ± 0.341\n",
      "\n",
      "Network average sum (per node):\n",
      "0.000 ± 0.000,\t0.167 ± 0.000,\t0.333 ± 0.000,\t0.667 ± 0.000,\t1.000 ± 0.000,\t\n",
      "0.167 ± 0.000,\t0.000 ± 0.000,\t0.667 ± 0.000,\t\n",
      "\n",
      "\n"
     ]
    }
   ],
   "source": [
    "# Get observer's summary.    \n",
    "network.observers_summary()"
   ]
  }
 ],
 "metadata": {
  "kernelspec": {
   "display_name": "Python 3",
   "language": "python",
   "name": "python3"
  },
  "language_info": {
   "codemirror_mode": {
    "name": "ipython",
    "version": 3
   },
   "file_extension": ".py",
   "mimetype": "text/x-python",
   "name": "python",
   "nbconvert_exporter": "python",
   "pygments_lexer": "ipython3",
   "version": "3.8.5"
  }
 },
 "nbformat": 4,
 "nbformat_minor": 5
}
