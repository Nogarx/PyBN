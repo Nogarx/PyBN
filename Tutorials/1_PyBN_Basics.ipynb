{
 "cells": [
  {
   "cell_type": "markdown",
   "id": "e6893044",
   "metadata": {},
   "source": [
    "# PyBN basics"
   ]
  },
  {
   "cell_type": "markdown",
   "id": "0c3f1d2f",
   "metadata": {},
   "source": [
    "PyBN is constructed with the idea of ease of use, thus it is built from several compatible modules. The central one is the network module which defines some of the most popular flavor of boolean networks. Let's start by running a simple Boolean Network. The first ingridient we require is a graph. Since Boolean Networks are intrinsecally related to graphs we decided to separate the core structure from the Boolean network from its functionally. The graph must be presented as a list of adjacencies."
   ]
  },
  {
   "cell_type": "code",
   "execution_count": 1,
   "id": "6b751167",
   "metadata": {},
   "outputs": [
    {
     "data": {
      "text/plain": [
       "[(0, 0),\n",
       " (0, 4),\n",
       " (1, 2),\n",
       " (1, 3),\n",
       " (2, 0),\n",
       " (3, 2),\n",
       " (3, 3),\n",
       " (3, 6),\n",
       " (4, 1),\n",
       " (4, 7),\n",
       " (5, 2),\n",
       " (5, 4),\n",
       " (5, 5),\n",
       " (5, 6),\n",
       " (6, 2),\n",
       " (6, 3),\n",
       " (6, 5),\n",
       " (6, 6),\n",
       " (7, 4),\n",
       " (7, 6)]"
      ]
     },
     "execution_count": 1,
     "metadata": {},
     "output_type": "execute_result"
    }
   ],
   "source": [
    "from pybn.graphs import uniform_graph\n",
    "\n",
    "average_connectivity = 2.4\n",
    "nodes = 8\n",
    "graph = uniform_graph(nodes, average_connectivity)\n",
    "graph"
   ]
  },
  {
   "cell_type": "markdown",
   "id": "088f2bd0",
   "metadata": {},
   "source": [
    "Given a graph presented in this format it is easy to define the boolean network. Lets run it for 10 steps and have its state printed."
   ]
  },
  {
   "cell_type": "code",
   "execution_count": 2,
   "id": "911c6624",
   "metadata": {},
   "outputs": [],
   "source": [
    "from pybn.networks import BooleanNetwork\n",
    "\n",
    "network = BooleanNetwork(nodes, graph)\n",
    "steps = 10"
   ]
  },
  {
   "cell_type": "code",
   "execution_count": 3,
   "id": "0d84a3bd",
   "metadata": {},
   "outputs": [
    {
     "name": "stdout",
     "output_type": "stream",
     "text": [
      "[1 1 0 0 1 1 0 1]\n",
      "[0 1 1 1 0 0 1 0]\n",
      "[0 1 1 0 1 0 0 0]\n",
      "[0 1 1 1 1 0 1 0]\n",
      "[0 1 1 0 1 0 0 0]\n",
      "[0 1 1 1 1 0 1 0]\n",
      "[0 1 1 0 1 0 0 0]\n",
      "[0 1 1 1 1 0 1 0]\n",
      "[0 1 1 0 1 0 0 0]\n",
      "[0 1 1 1 1 0 1 0]\n",
      "[0 1 1 0 1 0 0 0]\n"
     ]
    }
   ],
   "source": [
    "# Set a random initial state.\n",
    "network.set_initial_state()\n",
    "print(network.state)\n",
    "# Perform several steps.\n",
    "for _ in range(steps):\n",
    "    network.step()\n",
    "    print(network.state)"
   ]
  },
  {
   "cell_type": "markdown",
   "id": "2972080e",
   "metadata": {},
   "source": [
    "Now, since running networks without getting some information out of them is boring. We introduce the observers. Observers are in charge of extracting information as efficiently as possible from the evolution of the Boolean Networks. Let's calculate the entropy of the states of the previous network from 128 steps. The first thing we have to do is define and attach the observer to the network."
   ]
  },
  {
   "cell_type": "code",
   "execution_count": 4,
   "id": "baeaf5d3",
   "metadata": {},
   "outputs": [],
   "source": [
    "from pybn.observers import EntropyObserver\n",
    "\n",
    "observers = [EntropyObserver(nodes=nodes)] \n",
    "network.attach_observers(observers)"
   ]
  },
  {
   "cell_type": "markdown",
   "id": "24beee4a",
   "metadata": {},
   "source": [
    "Then we just simply need to run the network. Notice that since we are just running the network once all the errors are 0."
   ]
  },
  {
   "cell_type": "code",
   "execution_count": 5,
   "id": "6376d422",
   "metadata": {},
   "outputs": [
    {
     "name": "stdout",
     "output_type": "stream",
     "text": [
      "Network entropy:\t0.164 ± 0.318\n",
      "Nodes entropy:\n",
      "1.000 ± 0.000,\t0.065 ± 0.000,\t0.115 ± 0.000,\t0.000 ± 0.000,\t0.065 ± 0.000,\t\n",
      "0.000 ± 0.000,\t0.000 ± 0.000,\t0.065 ± 0.000,\n",
      "\n",
      "Network complexity:\t0.548 ± 0.868\n",
      "Nodes entropy:\n",
      "0.000 ± 0.000,\t0.245 ± 0.000,\t0.408 ± 0.000,\t0.000 ± 0.000,\t0.245 ± 0.000,\t\n",
      "0.000 ± 0.000,\t0.000 ± 0.000,\t0.245 ± 0.000,\n",
      "\n"
     ]
    }
   ],
   "source": [
    "steps = 128\n",
    "\n",
    "# Set a random initial state.\n",
    "network.set_initial_state(observe=True)\n",
    "\n",
    "# Perform several steps.\n",
    "for _ in range(steps):\n",
    "    network.step(observe=True)\n",
    "    \n",
    "# Get observer's summary.    \n",
    "network.observers_summary()"
   ]
  },
  {
   "cell_type": "markdown",
   "id": "55a8a4a6",
   "metadata": {},
   "source": [
    "# Multiple executions "
   ]
  },
  {
   "cell_type": "markdown",
   "id": "afff26ee",
   "metadata": {},
   "source": [
    "When running a network multiple times a few optimizations can be made. This time, let's use a Fuzzy Network to illustrate this and include another observer."
   ]
  },
  {
   "cell_type": "code",
   "execution_count": 6,
   "id": "3968dc14",
   "metadata": {},
   "outputs": [],
   "source": [
    "from pybn.networks import FuzzyBooleanNetwork\n",
    "from pybn.observers import TransitionsObserver"
   ]
  },
  {
   "cell_type": "markdown",
   "id": "1c568814",
   "metadata": {},
   "source": [
    "First we create the graph."
   ]
  },
  {
   "cell_type": "code",
   "execution_count": 7,
   "id": "9129ef87",
   "metadata": {},
   "outputs": [],
   "source": [
    "average_connectivity = 1.8\n",
    "nodes = 25\n",
    "graph = uniform_graph(nodes, average_connectivity)"
   ]
  },
  {
   "cell_type": "markdown",
   "id": "c3605ee0",
   "metadata": {},
   "source": [
    "Then the Fuzzy Network."
   ]
  },
  {
   "cell_type": "code",
   "execution_count": 8,
   "id": "6e0e4c32",
   "metadata": {},
   "outputs": [],
   "source": [
    "base = 5\n",
    "fuzzy = FuzzyBooleanNetwork(nodes, base, graph)"
   ]
  },
  {
   "cell_type": "markdown",
   "id": "836e57bc",
   "metadata": {},
   "source": [
    "And we attach some observers. Note that the observers must be grouped with a list. The first small optimization we can do is to let the observer know in advance how many values runs will be averaging over."
   ]
  },
  {
   "cell_type": "code",
   "execution_count": 9,
   "id": "969d21fc",
   "metadata": {},
   "outputs": [],
   "source": [
    "runs = 8\n",
    "observers = [EntropyObserver(nodes=nodes, runs=runs, base=base),\n",
    "             TransitionsObserver(nodes=nodes, runs=runs)] \n",
    "fuzzy.attach_observers(observers)"
   ]
  },
  {
   "cell_type": "markdown",
   "id": "9183aa07",
   "metadata": {},
   "source": [
    "In case we want to \"prewarm\" (transcient) the network before measuring anything, we can just \"turn off\" the observers and then turning them on againg afterwards. "
   ]
  },
  {
   "cell_type": "code",
   "execution_count": 10,
   "id": "04360e9b",
   "metadata": {},
   "outputs": [
    {
     "name": "stdout",
     "output_type": "stream",
     "text": [
      "Network entropy:\t0.310 ± 0.280\n",
      "Nodes entropy:\n",
      "0.000 ± 0.000,\t0.822 ± 0.011,\t0.000 ± 0.000,\t0.326 ± 0.245,\t0.000 ± 0.000,\t\n",
      "0.419 ± 0.006,\t0.426 ± 0.002,\t0.426 ± 0.002,\t0.000 ± 0.000,\t0.633 ± 0.084,\t\n",
      "0.580 ± 0.019,\t0.000 ± 0.000,\t0.605 ± 0.105,\t0.000 ± 0.000,\t0.634 ± 0.036,\t\n",
      "0.407 ± 0.040,\t0.000 ± 0.000,\t0.661 ± 0.003,\t0.601 ± 0.021,\t0.000 ± 0.000,\t\n",
      "0.000 ± 0.000,\t0.403 ± 0.038,\t0.402 ± 0.039,\t0.416 ± 0.023,\t0.000 ± 0.000,\t\n",
      "\n",
      "Network complexity:\t0.856 ± 0.807\n",
      "Nodes entropy:\n",
      "0.000 ± 0.000,\t0.585 ± 0.042,\t0.000 ± 0.000,\t0.879 ± 0.739,\t0.000 ± 0.000,\t\n",
      "0.974 ± 0.023,\t0.978 ± 0.009,\t0.978 ± 0.009,\t0.000 ± 0.000,\t0.929 ± 0.307,\t\n",
      "0.974 ± 0.073,\t0.000 ± 0.000,\t0.956 ± 0.376,\t0.000 ± 0.000,\t0.928 ± 0.140,\t\n",
      "0.965 ± 0.154,\t0.000 ± 0.000,\t0.896 ± 0.012,\t0.959 ± 0.082,\t0.000 ± 0.000,\t\n",
      "0.000 ± 0.000,\t0.962 ± 0.147,\t0.962 ± 0.151,\t0.971 ± 0.090,\t0.000 ± 0.000,\t\n",
      "\n",
      "Transitions entropy:\t0.537 ± 0.450\n",
      "Nodes entropy:\n",
      "0.000 ± 0.000,\t0.946 ± 0.013,\t0.000 ± 0.000,\t0.651 ± 0.200,\t0.000 ± 0.000,\t\n",
      "0.908 ± 0.091,\t0.974 ± 0.034,\t0.974 ± 0.034,\t0.000 ± 0.000,\t0.974 ± 0.033,\t\n",
      "0.965 ± 0.039,\t0.000 ± 0.000,\t0.968 ± 0.017,\t0.000 ± 0.000,\t0.973 ± 0.043,\t\n",
      "0.796 ± 0.023,\t0.000 ± 0.000,\t0.952 ± 0.063,\t0.978 ± 0.034,\t0.000 ± 0.000,\t\n",
      "0.000 ± 0.000,\t0.861 ± 0.060,\t0.862 ± 0.060,\t0.642 ± 0.066,\t0.000 ± 0.000,\t\n",
      "\n",
      "Transitions complexity:\t0.995 ± 0.990\n",
      "Nodes entropy:\n",
      "0.000 ± 0.000,\t0.203 ± 0.050,\t0.000 ± 0.000,\t0.909 ± 0.639,\t0.000 ± 0.000,\t\n",
      "0.333 ± 0.330,\t0.101 ± 0.130,\t0.100 ± 0.131,\t0.000 ± 0.000,\t0.103 ± 0.129,\t\n",
      "0.134 ± 0.148,\t0.000 ± 0.000,\t0.125 ± 0.066,\t0.000 ± 0.000,\t0.104 ± 0.164,\t\n",
      "0.650 ± 0.089,\t0.000 ± 0.000,\t0.183 ± 0.236,\t0.084 ± 0.133,\t0.000 ± 0.000,\t\n",
      "0.000 ± 0.000,\t0.480 ± 0.225,\t0.477 ± 0.227,\t0.920 ± 0.248,\t0.000 ± 0.000,\t\n",
      "\n"
     ]
    }
   ],
   "source": [
    "steps = 128\n",
    "transcient = 128\n",
    "\n",
    "# Perform several runs.\n",
    "for _ in range(runs):\n",
    "    \n",
    "    # Set a random initial state.\n",
    "    fuzzy.set_initial_state(observe=False)\n",
    "    \n",
    "    # Perform several pre-warm and unobserved steps.\n",
    "    for _ in range(transcient):\n",
    "        fuzzy.step(observe=False)\n",
    "    \n",
    "    # Pass the last state to the observers.\n",
    "    fuzzy.update_observers()\n",
    "    \n",
    "    # Perform several observebed steps.\n",
    "    for _ in range(steps):\n",
    "        fuzzy.step(observe=True)\n",
    "        \n",
    "# Get observer's summary.\n",
    "fuzzy.observers_summary()"
   ]
  }
 ],
 "metadata": {
  "kernelspec": {
   "display_name": "Python 3",
   "language": "python",
   "name": "python3"
  },
  "language_info": {
   "codemirror_mode": {
    "name": "ipython",
    "version": 3
   },
   "file_extension": ".py",
   "mimetype": "text/x-python",
   "name": "python",
   "nbconvert_exporter": "python",
   "pygments_lexer": "ipython3",
   "version": "3.8.5"
  }
 },
 "nbformat": 4,
 "nbformat_minor": 5
}
