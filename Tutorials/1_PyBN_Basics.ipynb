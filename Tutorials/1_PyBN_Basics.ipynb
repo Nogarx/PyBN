{
 "cells": [
  {
   "cell_type": "markdown",
   "id": "4c6cfe32",
   "metadata": {},
   "source": [
    "# PyBN basics"
   ]
  },
  {
   "cell_type": "markdown",
   "id": "2a4b7494",
   "metadata": {},
   "source": [
    "PyBN is constructed with the idea of ease of use, thus it is built from several compatible modules. The central one is the network module which defines some of the most popular flavor of boolean networks. Let's start by running a simple Boolean Network. The first ingridient we require is a graph. Since Boolean Networks are intrinsecally related to graphs we decided to separate the core structure from the Boolean network from its functionally. The graph must be presented as a list of adjacencies."
   ]
  },
  {
   "cell_type": "code",
   "execution_count": 1,
   "id": "128cfdfe",
   "metadata": {},
   "outputs": [
    {
     "data": {
      "text/plain": [
       "[(0, 5),\n",
       " (1, 1),\n",
       " (2, 2),\n",
       " (2, 4),\n",
       " (2, 6),\n",
       " (3, 0),\n",
       " (3, 2),\n",
       " (3, 6),\n",
       " (4, 0),\n",
       " (4, 1),\n",
       " (4, 2),\n",
       " (4, 3),\n",
       " (4, 5),\n",
       " (5, 2),\n",
       " (5, 7),\n",
       " (6, 5),\n",
       " (6, 7),\n",
       " (7, 2),\n",
       " (7, 3),\n",
       " (7, 6)]"
      ]
     },
     "execution_count": 1,
     "metadata": {},
     "output_type": "execute_result"
    }
   ],
   "source": [
    "from pybn.graphs import uniform_graph\n",
    "\n",
    "average_connectivity = 2.4\n",
    "nodes = 8\n",
    "graph = uniform_graph(nodes, average_connectivity)\n",
    "graph"
   ]
  },
  {
   "cell_type": "markdown",
   "id": "45fc3e79",
   "metadata": {},
   "source": [
    "Given a graph presented in this format it is easy to define the boolean network. Lets run it for 10 steps and have its state printed."
   ]
  },
  {
   "cell_type": "code",
   "execution_count": 2,
   "id": "c8489ace",
   "metadata": {},
   "outputs": [],
   "source": [
    "from pybn.networks import BooleanNetwork\n",
    "\n",
    "network = BooleanNetwork(nodes, graph)\n",
    "steps = 10"
   ]
  },
  {
   "cell_type": "code",
   "execution_count": 3,
   "id": "b5aeb7b5",
   "metadata": {},
   "outputs": [
    {
     "name": "stdout",
     "output_type": "stream",
     "text": [
      "[0 1 1 0 1 0 0 1]\n",
      "[0 0 0 0 0 1 1 0]\n",
      "[1 1 0 1 0 0 1 0]\n",
      "[0 0 1 1 0 1 1 0]\n",
      "[0 1 1 1 0 0 0 0]\n",
      "[0 0 0 1 0 0 0 0]\n",
      "[0 1 1 1 0 0 1 0]\n",
      "[0 0 0 1 0 0 0 0]\n",
      "[0 1 1 1 0 0 1 0]\n",
      "[0 0 0 1 0 0 0 0]\n",
      "[0 1 1 1 0 0 1 0]\n"
     ]
    }
   ],
   "source": [
    "# Set a random initial state.\n",
    "network.set_initial_state()\n",
    "print(network.state)\n",
    "# Perform several steps.\n",
    "for _ in range(steps):\n",
    "    network.step()\n",
    "    print(network.state)"
   ]
  },
  {
   "cell_type": "markdown",
   "id": "1e2a4649",
   "metadata": {},
   "source": [
    "Now, since running networks without getting some information out of them is boring. We introduce the observers. Observers are in charge of extracting information as efficiently as possible from the evolution of the Boolean Networks. Let's calculate the entropy of the states of the previous network from 128 steps. The first thing we have to do is define and attach the observer to the network."
   ]
  },
  {
   "cell_type": "code",
   "execution_count": 4,
   "id": "049f23b2",
   "metadata": {},
   "outputs": [],
   "source": [
    "from pybn.observers import EntropyObserver\n",
    "\n",
    "observers = [EntropyObserver(nodes=nodes)] \n",
    "network.attach_observers(observers)"
   ]
  },
  {
   "cell_type": "markdown",
   "id": "98267154",
   "metadata": {},
   "source": [
    "Then we just simply need to run the network. Notice that since we are just running the network once all the errors are 0."
   ]
  },
  {
   "cell_type": "code",
   "execution_count": 5,
   "id": "d25d8714",
   "metadata": {},
   "outputs": [
    {
     "name": "stdout",
     "output_type": "stream",
     "text": [
      "Network entropy:\t0.420 ± 0.450\n",
      "\n",
      "Network entropy (per node):\n",
      "0.115 ± 0.000,\t1.000 ± 0.000,\t1.000 ± 0.000,\t0.000 ± 0.000,\t0.065 ± 0.000,\t\n",
      "0.115 ± 0.000,\t1.000 ± 0.000,\t0.065 ± 0.000,\t\n",
      "\n",
      "Network complexity:\t0.163 ± 0.173\n",
      "\n",
      "Network complexity (per node):\n",
      "0.408 ± 0.000,\t0.000 ± 0.000,\t0.000 ± 0.000,\t0.000 ± 0.000,\t0.245 ± 0.000,\t\n",
      "0.408 ± 0.000,\t0.000 ± 0.000,\t0.245 ± 0.000,\t\n",
      "\n",
      "\n"
     ]
    }
   ],
   "source": [
    "steps = 128\n",
    "\n",
    "# Set a random initial state.\n",
    "network.set_initial_state(observe=True)\n",
    "\n",
    "# Perform several steps.\n",
    "for _ in range(steps):\n",
    "    network.step(observe=True)\n",
    "\n",
    "# Signal the observer that the run concluded. \n",
    "network.update_observers(end_of_run=True)\n",
    "\n",
    "# Get observer's summary.    \n",
    "network.observers_summary()"
   ]
  },
  {
   "cell_type": "markdown",
   "id": "ac0ef347",
   "metadata": {},
   "source": [
    "# Multiple executions "
   ]
  },
  {
   "cell_type": "markdown",
   "id": "48a84c94",
   "metadata": {},
   "source": [
    "When running a network multiple times a few optimizations can be made. This time, let's use a Fuzzy Network to illustrate this and include another observer."
   ]
  },
  {
   "cell_type": "code",
   "execution_count": 8,
   "id": "6eb46634",
   "metadata": {},
   "outputs": [],
   "source": [
    "from pybn.networks import FuzzyBooleanNetwork\n",
    "from pybn.observers import TransitionsObserver"
   ]
  },
  {
   "cell_type": "markdown",
   "id": "64202b81",
   "metadata": {},
   "source": [
    "First we create the graph."
   ]
  },
  {
   "cell_type": "code",
   "execution_count": 9,
   "id": "2be661e9",
   "metadata": {},
   "outputs": [],
   "source": [
    "average_connectivity = 5.8\n",
    "nodes = 20\n",
    "graph = uniform_graph(nodes, average_connectivity)"
   ]
  },
  {
   "cell_type": "markdown",
   "id": "2f2a50d3",
   "metadata": {},
   "source": [
    "Then the Fuzzy Network."
   ]
  },
  {
   "cell_type": "code",
   "execution_count": 10,
   "id": "9d8924de",
   "metadata": {},
   "outputs": [],
   "source": [
    "base = 5\n",
    "fuzzy = FuzzyBooleanNetwork(nodes, base, graph)"
   ]
  },
  {
   "cell_type": "markdown",
   "id": "76dfe48c",
   "metadata": {},
   "source": [
    "And we attach some observers. Note that the observers must be grouped with a list. The first small optimization we can do is to let the observer know in advance how many values runs will be averaging over."
   ]
  },
  {
   "cell_type": "code",
   "execution_count": 11,
   "id": "95d65082",
   "metadata": {},
   "outputs": [],
   "source": [
    "runs = 10\n",
    "observers = [EntropyObserver(nodes=nodes, runs=runs, base=base),\n",
    "             TransitionsObserver(nodes=nodes, runs=runs)] \n",
    "fuzzy.attach_observers(observers)"
   ]
  },
  {
   "cell_type": "markdown",
   "id": "053fa29e",
   "metadata": {},
   "source": [
    "In case we want to \"prewarm\" (transcient) the network before measuring anything, we can just \"turn off\" the observers and then turning them on againg afterwards. "
   ]
  },
  {
   "cell_type": "code",
   "execution_count": 12,
   "id": "37bb263e",
   "metadata": {},
   "outputs": [
    {
     "name": "stdout",
     "output_type": "stream",
     "text": [
      "Network entropy:\t0.413 ± 0.028\n",
      "\n",
      "Network entropy (per node):\n",
      "0.430 ± 0.001,\t0.427 ± 0.003,\t0.425 ± 0.006,\t0.422 ± 0.010,\t0.420 ± 0.011,\t\n",
      "0.414 ± 0.011,\t0.429 ± 0.002,\t0.427 ± 0.003,\t0.406 ± 0.012,\t0.428 ± 0.002,\t\n",
      "0.426 ± 0.004,\t0.424 ± 0.010,\t0.336 ± 0.017,\t0.428 ± 0.003,\t0.394 ± 0.010,\t\n",
      "0.426 ± 0.003,\t0.426 ± 0.006,\t0.401 ± 0.008,\t0.352 ± 0.038,\t0.428 ± 0.003,\t\n",
      "\n",
      "\n",
      "Network complexity:\t0.967 ± 0.027\n",
      "\n",
      "Network complexity (per node):\n",
      "0.980 ± 0.000,\t0.979 ± 0.002,\t0.977 ± 0.004,\t0.975 ± 0.007,\t0.974 ± 0.008,\t\n",
      "0.970 ± 0.008,\t0.980 ± 0.001,\t0.978 ± 0.002,\t0.964 ± 0.010,\t0.979 ± 0.001,\t\n",
      "0.978 ± 0.002,\t0.977 ± 0.007,\t0.891 ± 0.021,\t0.979 ± 0.002,\t0.955 ± 0.008,\t\n",
      "0.978 ± 0.001,\t0.978 ± 0.004,\t0.960 ± 0.006,\t0.907 ± 0.048,\t0.979 ± 0.002,\t\n",
      "\n",
      "\n",
      "\n",
      "Network transition entropy:\t0.914 ± 0.076\n",
      "\n",
      "Network transition entropy (per node):\n",
      "0.945 ± 0.031,\t0.933 ± 0.020,\t0.952 ± 0.023,\t0.894 ± 0.059,\t0.941 ± 0.023,\t\n",
      "0.961 ± 0.036,\t0.746 ± 0.069,\t0.980 ± 0.009,\t0.958 ± 0.031,\t0.859 ± 0.033,\t\n",
      "0.920 ± 0.033,\t0.943 ± 0.036,\t0.793 ± 0.066,\t0.959 ± 0.021,\t0.967 ± 0.021,\t\n",
      "0.951 ± 0.018,\t0.943 ± 0.016,\t0.895 ± 0.030,\t0.793 ± 0.092,\t0.944 ± 0.046,\t\n",
      "\n",
      "\n",
      "Network transition complexity:\t0.292 ± 0.215\n",
      "\n",
      "Network transition complexity (per node):\n",
      "0.203 ± 0.108,\t0.250 ± 0.067,\t0.180 ± 0.080,\t0.365 ± 0.179,\t0.221 ± 0.081,\t\n",
      "0.146 ± 0.125,\t0.738 ± 0.135,\t0.079 ± 0.036,\t0.157 ± 0.112,\t0.481 ± 0.099,\t\n",
      "0.291 ± 0.108,\t0.210 ± 0.125,\t0.640 ± 0.132,\t0.156 ± 0.078,\t0.126 ± 0.076,\t\n",
      "0.185 ± 0.063,\t0.213 ± 0.056,\t0.372 ± 0.094,\t0.623 ± 0.205,\t0.202 ± 0.151,\t\n",
      "\n",
      "\n",
      "\n"
     ]
    }
   ],
   "source": [
    "steps = 128\n",
    "transcient = 128\n",
    "\n",
    "# Perform several runs.\n",
    "for _ in range(runs):\n",
    "    \n",
    "    # Set a random initial state.\n",
    "    fuzzy.set_initial_state(observe=False)\n",
    "    \n",
    "    # Perform several pre-warm and unobserved steps.\n",
    "    for _ in range(transcient):\n",
    "        fuzzy.step(observe=False)\n",
    "    \n",
    "    # Pass the last state to the observers.\n",
    "    fuzzy.update_observers()\n",
    "    \n",
    "    # Perform several observebed steps.\n",
    "    for _ in range(steps):\n",
    "        fuzzy.step(observe=True)\n",
    "        \n",
    "    # Signal the observers that the run concluded.\n",
    "    fuzzy.update_observers(end_of_run=True)\n",
    "        \n",
    "# Get observer's summary.\n",
    "fuzzy.observers_summary()"
   ]
  },
  {
   "cell_type": "code",
   "execution_count": 13,
   "id": "7ef2890b",
   "metadata": {},
   "outputs": [
    {
     "data": {
      "text/plain": [
       "[('entropy', '0.413412,0.027770,\\n'), ('complexity', '0.966926,0.027052,\\n')]"
      ]
     },
     "execution_count": 13,
     "metadata": {},
     "output_type": "execute_result"
    }
   ],
   "source": [
    "fuzzy.observers[0].file_summary()"
   ]
  }
 ],
 "metadata": {
  "kernelspec": {
   "display_name": "Python 3",
   "language": "python",
   "name": "python3"
  },
  "language_info": {
   "codemirror_mode": {
    "name": "ipython",
    "version": 3
   },
   "file_extension": ".py",
   "mimetype": "text/x-python",
   "name": "python",
   "nbconvert_exporter": "python",
   "pygments_lexer": "ipython3",
   "version": "3.8.5"
  }
 },
 "nbformat": 4,
 "nbformat_minor": 5
}
