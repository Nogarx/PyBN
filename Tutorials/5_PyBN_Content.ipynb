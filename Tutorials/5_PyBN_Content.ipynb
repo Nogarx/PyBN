{
 "cells": [
  {
   "cell_type": "markdown",
   "id": "8cac4d61",
   "metadata": {},
   "source": [
    "# PyBN Content"
   ]
  },
  {
   "cell_type": "markdown",
   "id": "eb461593",
   "metadata": {},
   "source": [
    "Here we briefly list the content of PyBN."
   ]
  },
  {
   "cell_type": "markdown",
   "id": "a66f2f58",
   "metadata": {},
   "source": [
    "### Graphs"
   ]
  },
  {
   "cell_type": "markdown",
   "id": "359f680e",
   "metadata": {},
   "source": [
    "PyBN has three default functions to built graphs"
   ]
  },
  {
   "cell_type": "code",
   "execution_count": 1,
   "id": "ecdedcea",
   "metadata": {},
   "outputs": [],
   "source": [
    "from pybn.graphs import uniform_graph, regular_graph, power_law_graph"
   ]
  },
  {
   "cell_type": "markdown",
   "id": "c21af641",
   "metadata": {},
   "source": [
    "uniform_graph creates a graph with ceil(nodes * k) edges uniformly distributed."
   ]
  },
  {
   "cell_type": "code",
   "execution_count": 2,
   "id": "db41d404",
   "metadata": {},
   "outputs": [],
   "source": [
    "#uniform_graph(nodes, k)"
   ]
  },
  {
   "cell_type": "markdown",
   "id": "89bc3f74",
   "metadata": {},
   "source": [
    "regular_graph creates a regular graph with k random edges per node."
   ]
  },
  {
   "cell_type": "code",
   "execution_count": 3,
   "id": "48c1816a",
   "metadata": {},
   "outputs": [],
   "source": [
    "#regular_graph(nodes, k)"
   ]
  },
  {
   "cell_type": "markdown",
   "id": "290d167f",
   "metadata": {},
   "source": [
    "power_law_graph creates a graph with l=k*(i+1)^(-w/nodes) random edges per node."
   ]
  },
  {
   "cell_type": "code",
   "execution_count": 4,
   "id": "8ea7c079",
   "metadata": {},
   "outputs": [],
   "source": [
    "#power_law_graph(nodes, k, w)"
   ]
  },
  {
   "cell_type": "markdown",
   "id": "947fdd02",
   "metadata": {},
   "source": [
    "### Networks"
   ]
  },
  {
   "cell_type": "markdown",
   "id": "89ccaddc",
   "metadata": {},
   "source": [
    "PyBN has three default networks."
   ]
  },
  {
   "cell_type": "code",
   "execution_count": 5,
   "id": "37e95ca3",
   "metadata": {},
   "outputs": [],
   "source": [
    "from pybn.networks import BooleanNetwork, FuzzyBooleanNetwork, ProbabilisticBooleanNetwork"
   ]
  },
  {
   "cell_type": "markdown",
   "id": "c792034a",
   "metadata": {},
   "source": [
    "BooleanNetwork is the traditional boolean network."
   ]
  },
  {
   "cell_type": "code",
   "execution_count": 6,
   "id": "562acb41",
   "metadata": {},
   "outputs": [],
   "source": [
    "#BooleanNetwork(nodes, graph, bias, async_order=None)"
   ]
  },
  {
   "cell_type": "markdown",
   "id": "7fb33bbd",
   "metadata": {},
   "source": [
    "FuzzyBooleanNetwork is a analogue version for fuzzy logic. It is important to notice that for convinience the state of this network is store as integer but the calculations are performed using float point numbers."
   ]
  },
  {
   "cell_type": "code",
   "execution_count": 7,
   "id": "9d5e9189",
   "metadata": {},
   "outputs": [],
   "source": [
    "#FuzzyBooleanNetwork(nodes, base, graph, async_order=None)"
   ]
  },
  {
   "cell_type": "markdown",
   "id": "68dc08fb",
   "metadata": {},
   "source": [
    "ProbabilisticBooleanNetwork is a probabilistic boolean network that may choose from diferent boolean functions to update the state of a particular node. It is importat to notice that functions_probabilities is a list of length nodes whose entries are list with the probabilities associated to picking the p function for node q. This list implicitly defines the amount of functions per node. It is important that all inner list values must add to one to define a valid network."
   ]
  },
  {
   "cell_type": "code",
   "execution_count": 8,
   "id": "40c49816",
   "metadata": {},
   "outputs": [],
   "source": [
    "#ProbabilisticBooleanNetwork(nodes, graph, functions_probabilities, bias=0.5, async_order=None):\n",
    "\n",
    "# example of functions_probabilities for a network with 4 nodes.\n",
    "# functions_probabilities = [ [1], [0.5,0.5], [0.25,0.75], [0.1, 0.2, 0.7]] "
   ]
  },
  {
   "cell_type": "markdown",
   "id": "b9545b18",
   "metadata": {},
   "source": [
    "### Observers"
   ]
  },
  {
   "cell_type": "markdown",
   "id": "f730e758",
   "metadata": {},
   "source": [
    "PyBn comes with three observers."
   ]
  },
  {
   "cell_type": "code",
   "execution_count": 9,
   "id": "fbdf9cdc",
   "metadata": {},
   "outputs": [],
   "source": [
    "from pybn.observers import EntropyObserver, TransitionsObserver, BinaryTransitionsObserver"
   ]
  },
  {
   "cell_type": "markdown",
   "id": "387d0a80",
   "metadata": {},
   "source": [
    "Returns the average entropy and complexity of the network or/and the nodes."
   ]
  },
  {
   "cell_type": "code",
   "execution_count": 10,
   "id": "1de5119c",
   "metadata": {},
   "outputs": [],
   "source": [
    "#EntropyObserver(self, nodes=1, runs=1, base=2)"
   ]
  },
  {
   "cell_type": "markdown",
   "id": "69873c8a",
   "metadata": {},
   "source": [
    "Returns the average entropy and complexity of the transitions of network or/and the nodes. A transition is defined to be the change of the state of the node: +1 if the node increased its value, 0 if the node state is the same and -1 if the node decreased its value."
   ]
  },
  {
   "cell_type": "code",
   "execution_count": 11,
   "id": "56390f8d",
   "metadata": {},
   "outputs": [],
   "source": [
    "#TransitionsObserver(self, nodes=1, runs=1, transitions=False)\n",
    "\n",
    "# transitions=true enable the track of each individual transitions. \n",
    "# This value is only useful without the execution environment since a list of transitions\n",
    "# must be explicitly requested at the end of each run via the function get_transitions()."
   ]
  },
  {
   "cell_type": "markdown",
   "id": "9b161139",
   "metadata": {},
   "source": [
    "Returns the average entropy and complexity of the binary transitions of network or/and the nodes. A transition is defined to be the change of the state of the node: 1 if the node changed its value and 0 if the node state is the same."
   ]
  },
  {
   "cell_type": "code",
   "execution_count": 12,
   "id": "b3c44af1",
   "metadata": {},
   "outputs": [],
   "source": [
    "#BinaryTransitionsObserver(self, nodes=1, runs=1, transitions=False)\n",
    "\n",
    "# transitions=true enable the track of each individual transitions. \n",
    "# This value is only useful without the execution environment since a list of transitions\n",
    "# must be explicitly requested at the end of each run via the function get_transitions()."
   ]
  }
 ],
 "metadata": {
  "kernelspec": {
   "display_name": "Python 3",
   "language": "python",
   "name": "python3"
  },
  "language_info": {
   "codemirror_mode": {
    "name": "ipython",
    "version": 3
   },
   "file_extension": ".py",
   "mimetype": "text/x-python",
   "name": "python",
   "nbconvert_exporter": "python",
   "pygments_lexer": "ipython3",
   "version": "3.8.5"
  }
 },
 "nbformat": 4,
 "nbformat_minor": 5
}
