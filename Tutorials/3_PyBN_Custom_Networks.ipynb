{
 "cells": [
  {
   "cell_type": "markdown",
   "id": "39034b96",
   "metadata": {},
   "source": [
    "# Custom Networks"
   ]
  },
  {
   "cell_type": "markdown",
   "id": "2ec3d1f3",
   "metadata": {},
   "source": [
    "Not only observer can be handcrafted with minimum work. You can also define custom networks with a very few small method declarations. Let's build a conventional boolean network with a small twist: The last node state is the majority voting of the rest of the nodes casted downwards in ties (Here we are completely ignoring the structure of the graph but this is only for educational purposes)."
   ]
  },
  {
   "cell_type": "code",
   "execution_count": 1,
   "id": "a0efb3fe",
   "metadata": {},
   "outputs": [],
   "source": [
    "from pybn.networks import AbstractNetwork\n",
    "import numpy as np"
   ]
  },
  {
   "cell_type": "markdown",
   "id": "c63876ef",
   "metadata": {},
   "source": [
    "First of all we need to declare the constructor."
   ]
  },
  {
   "cell_type": "code",
   "execution_count": 2,
   "id": "66271f54",
   "metadata": {},
   "outputs": [],
   "source": [
    "class MyCustomNetwork(AbstractNetwork):\n",
    "    #REQUIRED.\n",
    "    def __init__(self, nodes, graph, awesome_parameter, bias=0.5, async_order=None):\n",
    "        # Always wall the super constructor. It provides a few required steps to set up everything.\n",
    "        super().__init__(nodes, graph, async_order=async_order)\n",
    "        self.bias = bias\n",
    "        \n",
    "        # Super defines the state as a vector of integer but this may be change it needed.\n",
    "        # self.state = np.zeros(nodes, dtype=int)\n",
    "        \n",
    "        # Super also defines a vector of empty Functions. Functions are created on-demand and represented as dictionaries.\n",
    "        # This can also be redefine if needed.\n",
    "        # self.functions = []\n",
    "        # for _ in range(nodes):\n",
    "        #     self.functions.append({})\n",
    "        \n",
    "        # You can also define custom parameters.\n",
    "        self.my_awesome_iterable_parameter = awesome_parameter"
   ]
  },
  {
   "cell_type": "markdown",
   "id": "7d8712c4",
   "metadata": {},
   "source": [
    "In some cases we will need to add some iterable parameter to our network. In order to work with our custom iterator one just need to include it in the from_configuration method under the parameters entry of the configuration dictionary."
   ]
  },
  {
   "cell_type": "code",
   "execution_count": 3,
   "id": "def69821",
   "metadata": {},
   "outputs": [],
   "source": [
    "class MyCustomNetwork(MyCustomNetwork):\n",
    "    #REQUIRED.\n",
    "    @classmethod\n",
    "    def from_configuration(cls, graph, configuration):\n",
    "        \"\"\"\n",
    "        Create a Boolean Network from a configuration dictionary.\n",
    "        \"\"\"\n",
    "        return cls(configuration['parameters']['nodes'], \n",
    "                   graph, \n",
    "                   configuration['parameters']['awesome_parameter'], \n",
    "                   configuration['parameters']['bias'])"
   ]
  },
  {
   "cell_type": "markdown",
   "id": "7606f1da",
   "metadata": {},
   "source": [
    "Since the state is not set in stone we need to tell the network how to create random states. In our case we just simply select a random vector of zeros and ones."
   ]
  },
  {
   "cell_type": "code",
   "execution_count": 4,
   "id": "12fb5f6d",
   "metadata": {},
   "outputs": [],
   "source": [
    "class MyCustomNetwork(MyCustomNetwork):\n",
    "    #REQUIRED.\n",
    "    def random_state(self):\n",
    "        return np.random.randint(0, 2, self.nodes)"
   ]
  },
  {
   "cell_type": "markdown",
   "id": "2a492a19",
   "metadata": {},
   "source": [
    "Finally we just need to tell the network how to it evolves. Node id is the internal identifier of the nodes. Here we just leave the conventional function creation but we will add a separate path if the node is the last one. Notice that rouding the average will do the trick for what we want to achive. Function input is an encoded version of the current state of the network that will serve as a key for the function dictionary."
   ]
  },
  {
   "cell_type": "code",
   "execution_count": 5,
   "id": "87458263",
   "metadata": {},
   "outputs": [],
   "source": [
    "class MyCustomNetwork(MyCustomNetwork):\n",
    "    #REQUIRED.\n",
    "    def create_function_evaluation(self, function_input, node_id):\n",
    "        if (node_id == self.nodes - 1):\n",
    "            random_value = int(np.rint(np.mean(network.state[:-1])))\n",
    "        else:\n",
    "            random_value = 0 if np.random.rand() < self.bias else 1 \n",
    "        self.functions[node_id][function_input] = random_value"
   ]
  },
  {
   "cell_type": "markdown",
   "id": "b39e03fc",
   "metadata": {},
   "source": [
    "In some cases it may be neccesary to override the evaluate_function of the network. In general you will not even need to define it in the custom class and we will leave intact. We show it here to mention that the only important thing about this function is the output: it must be a valid node state of the custom network."
   ]
  },
  {
   "cell_type": "code",
   "execution_count": 6,
   "id": "37fe4c86",
   "metadata": {},
   "outputs": [],
   "source": [
    "class MyCustomNetwork(MyCustomNetwork):\n",
    "    #OPTIONAL.\n",
    "    def evaluate_function(self, node_id):\n",
    "        # Compute function input.\n",
    "        function_input = self.compute_function_input(node_id)\n",
    "        # Evaluate function.\n",
    "        if function_input not in self.functions[node_id]:\n",
    "            self.create_function_evaluation(function_input, node_id)\n",
    "        return self.functions[node_id][function_input]"
   ]
  },
  {
   "cell_type": "markdown",
   "id": "3e7c8a77",
   "metadata": {},
   "source": [
    "# Testing the custom network"
   ]
  },
  {
   "cell_type": "markdown",
   "id": "f283848f",
   "metadata": {},
   "source": [
    "Initialize the network."
   ]
  },
  {
   "cell_type": "code",
   "execution_count": 7,
   "id": "79490542",
   "metadata": {},
   "outputs": [],
   "source": [
    "from pybn.graphs import uniform_graph\n",
    "\n",
    "nodes = 8\n",
    "average_connectivity = 2.4\n",
    "graph = uniform_graph(nodes, average_connectivity)\n",
    "\n",
    "awesome_parameter = np.pi\n",
    "network = MyCustomNetwork(nodes, graph, awesome_parameter)"
   ]
  },
  {
   "cell_type": "markdown",
   "id": "8ad4e0bb",
   "metadata": {},
   "source": [
    "Run the network a few steps."
   ]
  },
  {
   "cell_type": "code",
   "execution_count": 8,
   "id": "0946c892",
   "metadata": {},
   "outputs": [
    {
     "name": "stdout",
     "output_type": "stream",
     "text": [
      "[1 1 1 0 1 0 1 1]\n",
      "[0 0 1 0 0 0 1 1]\n",
      "[1 0 1 0 0 0 1 0]\n",
      "[0 0 1 0 0 0 1 0]\n",
      "[0 0 1 0 0 0 1 0]\n",
      "[0 0 1 0 0 0 1 0]\n"
     ]
    }
   ],
   "source": [
    "# Set a random initial state.\n",
    "steps = 5\n",
    "network.set_initial_state()\n",
    "print(network.state)\n",
    "# Perform several steps.\n",
    "for _ in range(steps):\n",
    "    network.step()\n",
    "    print(network.state)"
   ]
  },
  {
   "cell_type": "markdown",
   "id": "783e1ffa",
   "metadata": {},
   "source": [
    "As we can see, the network work as intended."
   ]
  }
 ],
 "metadata": {
  "kernelspec": {
   "display_name": "Python 3",
   "language": "python",
   "name": "python3"
  },
  "language_info": {
   "codemirror_mode": {
    "name": "ipython",
    "version": 3
   },
   "file_extension": ".py",
   "mimetype": "text/x-python",
   "name": "python",
   "nbconvert_exporter": "python",
   "pygments_lexer": "ipython3",
   "version": "3.8.5"
  }
 },
 "nbformat": 4,
 "nbformat_minor": 5
}
