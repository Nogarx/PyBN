{
 "cells": [
  {
   "cell_type": "code",
   "execution_count": null,
   "id": "bd3cb556",
   "metadata": {},
   "outputs": [],
   "source": [
    "from pybn.networks import BooleanNetwork, FuzzyBooleanNetwork\n",
    "from pybn.graphs import create_uniform_graph\n",
    "from pybn.observers import EntropyObserver"
   ]
  },
  {
   "cell_type": "markdown",
   "id": "1c9d850a",
   "metadata": {},
   "source": [
    "# Simple execution"
   ]
  },
  {
   "cell_type": "code",
   "execution_count": null,
   "id": "2fc16f14",
   "metadata": {},
   "outputs": [],
   "source": [
    "# Main parameters\n",
    "nodes = 16\n",
    "average_connectivity = 3.4\n",
    "steps = 128"
   ]
  },
  {
   "cell_type": "code",
   "execution_count": null,
   "id": "9dc58bc1",
   "metadata": {},
   "outputs": [],
   "source": [
    "# Create a graph.\n",
    "graph = create_uniform_graph(nodes, average_connectivity)\n",
    "\n",
    "# Initialize the network.\n",
    "network = BooleanNetwork(nodes, graph)\n",
    "\n",
    "# Attach an observer.\n",
    "network.attach_observers([EntropyObserver(nodes)])"
   ]
  },
  {
   "cell_type": "code",
   "execution_count": null,
   "id": "fd3a1128",
   "metadata": {},
   "outputs": [],
   "source": [
    "# Set a random initial state.\n",
    "network.set_initial_state(observe=True)\n",
    "\n",
    "# Perform several steps.\n",
    "for _ in range(steps):\n",
    "    network.step(observe=True)\n",
    "    \n",
    "# Get observer's summary.    \n",
    "print(network.observers[0].summary())"
   ]
  },
  {
   "cell_type": "markdown",
   "id": "5e966cab",
   "metadata": {},
   "source": [
    "# Multiple executions "
   ]
  },
  {
   "cell_type": "code",
   "execution_count": null,
   "id": "49144a11",
   "metadata": {},
   "outputs": [],
   "source": [
    "# Main parameters\n",
    "nodes = 16\n",
    "average_connectivity = 3.4\n",
    "base = 3\n",
    "runs = 8\n",
    "steps = 128"
   ]
  },
  {
   "cell_type": "code",
   "execution_count": null,
   "id": "861f22a6",
   "metadata": {},
   "outputs": [],
   "source": [
    "# Create a graph.\n",
    "graph = create_uniform_graph(nodes, average_connectivity)\n",
    "\n",
    "# Initialize the network.\n",
    "fuzzy = FuzzyBooleanNetwork(nodes, base, graph)\n",
    "\n",
    "# Attach an observer.\n",
    "fuzzy.attach_observers([EntropyObserver(nodes, runs=runs, base=base)])"
   ]
  },
  {
   "cell_type": "code",
   "execution_count": null,
   "id": "4f923395",
   "metadata": {},
   "outputs": [],
   "source": [
    "# Perform several runs.\n",
    "for _ in range(runs):\n",
    "    \n",
    "    # Set a random initial state.\n",
    "    fuzzy.set_initial_state(observe=True)\n",
    "    \n",
    "    # Perform several steps.\n",
    "    for _ in range(steps):\n",
    "        fuzzy.step(observe=True)\n",
    "        \n",
    "# Get observer's summary.\n",
    "print(fuzzy.observers[0].summary())"
   ]
  },
  {
   "cell_type": "markdown",
   "id": "799af431",
   "metadata": {},
   "source": [
    "# Complex executions "
   ]
  },
  {
   "cell_type": "code",
   "execution_count": null,
   "id": "6023445a",
   "metadata": {},
   "outputs": [],
   "source": [
    "# Main parameters\n",
    "nodes = 16\n",
    "average_connectivity = 3.4\n",
    "runs = 4\n",
    "steps = 128\n",
    "transcient = 128"
   ]
  },
  {
   "cell_type": "code",
   "execution_count": null,
   "id": "cf17a4dc",
   "metadata": {},
   "outputs": [],
   "source": [
    "# Create a graph.\n",
    "graph = create_uniform_graph(nodes, average_connectivity)\n",
    "\n",
    "# Initialize the network.\n",
    "network = BooleanNetwork(nodes, graph)\n",
    "\n",
    "# Attach an observer.\n",
    "network.attach_observers([EntropyObserver(nodes, runs=runs)])"
   ]
  },
  {
   "cell_type": "code",
   "execution_count": null,
   "id": "684eee69",
   "metadata": {},
   "outputs": [],
   "source": [
    "# Perform several runs.\n",
    "for _ in range(runs):\n",
    "    \n",
    "    # Set a random initial state.\n",
    "    network.set_initial_state(observe=False)\n",
    "    \n",
    "    # Perform several pre-warm and unobserved steps.\n",
    "    for _ in range(transcient):\n",
    "        network.step(observe=False)\n",
    "    \n",
    "    # Pass the last state to the observers.\n",
    "    network.update_observers()\n",
    "    \n",
    "    # Perform several observebed steps.\n",
    "    for _ in range(steps):\n",
    "        network.step(observe=True)\n",
    "        \n",
    "# Get observer's summary.\n",
    "print(network.observers[0].summary())"
   ]
  },
  {
   "cell_type": "code",
   "execution_count": null,
   "id": "0444c02f",
   "metadata": {},
   "outputs": [],
   "source": [
    "network.observers[0].data"
   ]
  },
  {
   "cell_type": "code",
   "execution_count": null,
   "id": "f2ac9576",
   "metadata": {},
   "outputs": [],
   "source": []
  }
 ],
 "metadata": {
  "kernelspec": {
   "display_name": "Python 3",
   "language": "python",
   "name": "python3"
  },
  "language_info": {
   "codemirror_mode": {
    "name": "ipython",
    "version": 3
   },
   "file_extension": ".py",
   "mimetype": "text/x-python",
   "name": "python",
   "nbconvert_exporter": "python",
   "pygments_lexer": "ipython3",
   "version": "3.8.5"
  }
 },
 "nbformat": 4,
 "nbformat_minor": 5
}
