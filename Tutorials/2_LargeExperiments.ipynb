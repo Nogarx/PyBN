{
 "cells": [
  {
   "cell_type": "code",
   "execution_count": null,
   "id": "0bcd770c",
   "metadata": {},
   "outputs": [],
   "source": [
    "import sys\n",
    "sys.path.append(\"./\")\n",
    "\n",
    "from pybn.networks import BooleanNetwork\n",
    "from pybn.graphs import create_uniform_graph\n",
    "from pybn.observers import EntropyObserver\n",
    "import pybn.execution as execution"
   ]
  },
  {
   "cell_type": "markdown",
   "id": "79766ab8",
   "metadata": {},
   "source": [
    "# Designing an experiment"
   ]
  },
  {
   "cell_type": "code",
   "execution_count": null,
   "id": "956a208f",
   "metadata": {},
   "outputs": [],
   "source": [
    "# A reference dictionary to build experiments can be obtained through the new_configuration method.\n",
    "experiment = execution.new_configuration()\n",
    "experiment"
   ]
  },
  {
   "cell_type": "code",
   "execution_count": null,
   "id": "d2549255",
   "metadata": {},
   "outputs": [],
   "source": [
    "# Configuring the experiment.\n",
    "configuration = {\n",
    "        'network': {'class': BooleanNetwork, 'nodes': 64, 'basis': 3, 'bias': 0.5, 'seed': None},\n",
    "        'fuzzy': {'conjunction': lambda x,y : min(x,y), 'disjunction': lambda x,y : max(x,y), 'negation': lambda x : 1 - x},\n",
    "        'graph': {'function': create_uniform_graph, 'k_start': 0, 'k_end': 8, 'k_step': 0.1, 'seed': None},\n",
    "        'observers': {'entropy': 1, 'family': 0, 'states': 0},\n",
    "        'execution': {'networks': 16, 'runs': 64, 'steps': 128, 'transient': 0, 'jobs': 8},\n",
    "        'storage_path' : './Experiment'}"
   ]
  },
  {
   "cell_type": "markdown",
   "id": "6241276a",
   "metadata": {},
   "source": [
    "# Dispatching an experiment"
   ]
  },
  {
   "cell_type": "code",
   "execution_count": null,
   "id": "e0c5ea31",
   "metadata": {},
   "outputs": [],
   "source": [
    "execution.run_experiment(configuration)"
   ]
  },
  {
   "cell_type": "markdown",
   "id": "fb086b41",
   "metadata": {},
   "source": [
    "# Extracting data from an experiment"
   ]
  },
  {
   "cell_type": "code",
   "execution_count": null,
   "id": "0fd7d77f",
   "metadata": {},
   "outputs": [],
   "source": []
  }
 ],
 "metadata": {
  "kernelspec": {
   "display_name": "Python 3",
   "language": "python",
   "name": "python3"
  },
  "language_info": {
   "codemirror_mode": {
    "name": "ipython",
    "version": 3
   },
   "file_extension": ".py",
   "mimetype": "text/x-python",
   "name": "python",
   "nbconvert_exporter": "python",
   "pygments_lexer": "ipython3",
   "version": "3.8.5"
  }
 },
 "nbformat": 4,
 "nbformat_minor": 5
}
