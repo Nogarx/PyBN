{
 "cells": [
  {
   "cell_type": "code",
   "execution_count": null,
   "id": "c156132a",
   "metadata": {},
   "outputs": [],
   "source": [
    "from pybn.networks import BooleanNetwork\n",
    "from pybn.graphs import create_uniform_graph\n",
    "from pybn.observers import EntropyObserver\n",
    "import pybn.execution as execution"
   ]
  },
  {
   "cell_type": "markdown",
   "id": "64ba917f",
   "metadata": {},
   "source": [
    "# Designing an experiment"
   ]
  },
  {
   "cell_type": "code",
   "execution_count": null,
   "id": "c4042f4e",
   "metadata": {},
   "outputs": [],
   "source": [
    "# A reference dictionary to build experiments can be obtained through the new_configuration method.\n",
    "experiment = execution.new_configuration()\n",
    "experiment"
   ]
  },
  {
   "cell_type": "code",
   "execution_count": null,
   "id": "871e9a98",
   "metadata": {},
   "outputs": [],
   "source": [
    "# Configuring the experiment.\n",
    "configuration = {\n",
    "        'network': {'class': BooleanNetwork, 'nodes': 64, 'basis': 3, 'bias': 0.5, 'seed': None},\n",
    "        'fuzzy': {'conjunction': lambda x,y : min(x,y), 'disjunction': lambda x,y : max(x,y), 'negation': lambda x : 1 - x},\n",
    "        'graph': {'function': create_uniform_graph, 'k_start': 0, 'k_end': 8, 'k_step': 0.1, 'seed': None},\n",
    "        'observers': {'entropy': 1, 'family': 0, 'states': 0},\n",
    "        'execution': {'networks': 16, 'runs': 64, 'steps': 128, 'transient': 0, 'jobs': 8},\n",
    "        'storage_path' : './Experiment'}"
   ]
  },
  {
   "cell_type": "markdown",
   "id": "6a0a141e",
   "metadata": {},
   "source": [
    "# Dispatching an experiment"
   ]
  },
  {
   "cell_type": "code",
   "execution_count": null,
   "id": "0992f8bc",
   "metadata": {},
   "outputs": [],
   "source": [
    "execution.run_experiment(configuration)"
   ]
  },
  {
   "cell_type": "markdown",
   "id": "91050119",
   "metadata": {},
   "source": [
    "# Extracting data from an experiment"
   ]
  },
  {
   "cell_type": "code",
   "execution_count": null,
   "id": "d65259b4",
   "metadata": {},
   "outputs": [],
   "source": []
  }
 ],
 "metadata": {
  "kernelspec": {
   "display_name": "Python 3",
   "language": "python",
   "name": "python3"
  },
  "language_info": {
   "codemirror_mode": {
    "name": "ipython",
    "version": 3
   },
   "file_extension": ".py",
   "mimetype": "text/x-python",
   "name": "python",
   "nbconvert_exporter": "python",
   "pygments_lexer": "ipython3",
   "version": "3.8.5"
  }
 },
 "nbformat": 4,
 "nbformat_minor": 5
}
