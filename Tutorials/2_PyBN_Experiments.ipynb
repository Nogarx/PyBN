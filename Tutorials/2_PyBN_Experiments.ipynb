{
 "cells": [
  {
   "cell_type": "markdown",
   "id": "2e9e36f1",
   "metadata": {},
   "source": [
    "# Experiments"
   ]
  },
  {
   "cell_type": "markdown",
   "id": "a8234216",
   "metadata": {},
   "source": [
    "Usually, when working with random boolean netwokrs, one is interested the average behaviour for a particular range of parameters. Performing such calculations naively, as we did previously, can and will lead to large computation times in most cases. Therefore, we added support for desining and running large experiments in parallel with Ray. This experiments can be run with a cluster without major problems thanks to Ray great flexibility. All the elements neccesary are contained in the execution module (ray must be installed independently).import pybn.execution as execution"
   ]
  },
  {
   "cell_type": "code",
   "execution_count": 1,
   "id": "9f4b91a8",
   "metadata": {},
   "outputs": [],
   "source": [
    "import pybn.execution as execution\n",
    "from pybn.networks import BooleanNetwork\n",
    "from pybn.graphs import uniform_graph\n",
    "from pybn.observers import EntropyObserver"
   ]
  },
  {
   "cell_type": "markdown",
   "id": "95ee86e0",
   "metadata": {},
   "source": [
    "# Designing an experiment"
   ]
  },
  {
   "cell_type": "markdown",
   "id": "cadd592d",
   "metadata": {},
   "source": [
    "The first thing we need to do is to design an experiment. This is done with via one dictionary and one custom iterator."
   ]
  },
  {
   "cell_type": "markdown",
   "id": "18a6b215",
   "metadata": {},
   "source": [
    "A reference dictionary to build experiments can be obtained through the new_configuration method. The configuration dictionary is used to declare the STATIC parameters of the experiment."
   ]
  },
  {
   "cell_type": "code",
   "execution_count": 2,
   "id": "e126c793",
   "metadata": {},
   "outputs": [
    {
     "data": {
      "text/plain": [
       "{'network': {'class': None, 'seed': None},\n",
       " 'graph': {'function': None, 'seed': None},\n",
       " 'fuzzy': {'conjunction': <function pybn.execution.new_configuration.<locals>.<lambda>(x, y)>,\n",
       "  'disjunction': <function pybn.execution.new_configuration.<locals>.<lambda>(x, y)>,\n",
       "  'negation': <function pybn.execution.new_configuration.<locals>.<lambda>(x)>},\n",
       " 'parameters': {'nodes': 0,\n",
       "  'k': 0,\n",
       "  'w': 0,\n",
       "  'base': 0,\n",
       "  'bias': 0.5,\n",
       "  'steps': 0,\n",
       "  'transient': 0},\n",
       " 'summary': {'per_node': False, 'precision': 6},\n",
       " 'execution': {'networks': 0, 'samples': 0},\n",
       " 'observers': [],\n",
       " 'storage_path': './'}"
      ]
     },
     "execution_count": 2,
     "metadata": {},
     "output_type": "execute_result"
    }
   ],
   "source": [
    "execution.new_configuration()"
   ]
  },
  {
   "cell_type": "markdown",
   "id": "0898933a",
   "metadata": {},
   "source": [
    "Let's create a new experiment. Notice that you do not need to define every single parameter that comes with the configuration dictionary, only the ones you will use. Within the parameters subdirectory we will introduce the inputs to the graph functions, we have reserved the letters k and w for our predefined functions but if you define any custom graph function the inputs for such function must be introduced inside this subdirectory. For this particular case (uniform_graph) k means the average connectivity of the network. Although this may seem confusing at first it keeps the overall workflow simple."
   ]
  },
  {
   "cell_type": "code",
   "execution_count": 3,
   "id": "bfcac431",
   "metadata": {},
   "outputs": [],
   "source": [
    "configuration = {\n",
    "        'network': {'class': BooleanNetwork},\n",
    "        'graph': {'function': uniform_graph},\n",
    "        'parameters': {'nodes': 32, 'k':0, 'base': 2, 'bias': 0.5, 'steps': 128, 'transient': 0},\n",
    "        'summary':{'per_node': True, 'precision': 6},\n",
    "        'execution': {'networks': 100, 'samples': 100},\n",
    "        'observers': [EntropyObserver],\n",
    "        'storage_path' : './Exp'\n",
    "    }"
   ]
  },
  {
   "cell_type": "markdown",
   "id": "e3ad42cb",
   "metadata": {},
   "source": [
    "The Execution Iterator is a custom iterator used to declare all VARIABLE parameters of the experiment.\n",
    "This iterator overwrites the configuration dictionary each timestep within the execution function."
   ]
  },
  {
   "cell_type": "code",
   "execution_count": 4,
   "id": "55ea1e7f",
   "metadata": {},
   "outputs": [],
   "source": [
    "iterator = execution.ExecutionIterator()"
   ]
  },
  {
   "cell_type": "markdown",
   "id": "3ca41256",
   "metadata": {},
   "source": [
    "Each target variable must be declared explicitly and the name must be the same that the configuration dictionary uses."
   ]
  },
  {
   "cell_type": "code",
   "execution_count": 5,
   "id": "5dae7a29",
   "metadata": {},
   "outputs": [],
   "source": [
    "import numpy as np\n",
    "\n",
    "bias_values = np.arange(0,1.01,0.2)\n",
    "iterator.register_variable('bias', bias_values)\n",
    "\n",
    "connectivity_values = np.arange(0,3.01,0.1)\n",
    "iterator.register_variable('k', connectivity_values)"
   ]
  },
  {
   "cell_type": "markdown",
   "id": "a9b7ce85",
   "metadata": {},
   "source": [
    "It is important to notice that all static parameters will become variables if we declare it within the iterator. For example,"
   ]
  },
  {
   "cell_type": "code",
   "execution_count": 6,
   "id": "629756a5",
   "metadata": {},
   "outputs": [],
   "source": [
    "#iterator.register_variable('nodes', range(16,65))"
   ]
  },
  {
   "cell_type": "markdown",
   "id": "7080b379",
   "metadata": {},
   "source": [
    "will produce an experiment that variates the nodes from 16 to 64 even though we declared nodes  = 32 previously."
   ]
  },
  {
   "cell_type": "markdown",
   "id": "a5d201a7",
   "metadata": {},
   "source": [
    "The iterator also accepts custom lists. For instance,"
   ]
  },
  {
   "cell_type": "code",
   "execution_count": 7,
   "id": "0dd34106",
   "metadata": {},
   "outputs": [],
   "source": [
    "#iterator.register_variable('basis', [2,3,5,7,11,13])"
   ]
  },
  {
   "cell_type": "markdown",
   "id": "8fb0e29a",
   "metadata": {},
   "source": [
    "The iterator also accepts a list of particular graphs to test."
   ]
  },
  {
   "cell_type": "code",
   "execution_count": 8,
   "id": "f6157792",
   "metadata": {},
   "outputs": [],
   "source": [
    "#iterator.register_variable('graph', [graph1, graph2])"
   ]
  },
  {
   "cell_type": "markdown",
   "id": "8d4fcbe0",
   "metadata": {},
   "source": [
    "Or a list of graphs functions."
   ]
  },
  {
   "cell_type": "code",
   "execution_count": 9,
   "id": "3eefcc39",
   "metadata": {},
   "outputs": [],
   "source": [
    "#iterator.register_variable('graph_function', [graph_function1, graph_function2])"
   ]
  },
  {
   "cell_type": "markdown",
   "id": "7c4d01e1",
   "metadata": {},
   "source": [
    "Only 'graph' or 'graph_function' may be declared at a time."
   ]
  },
  {
   "cell_type": "markdown",
   "id": "522bbc7b",
   "metadata": {},
   "source": [
    "# Dispatching an experiment"
   ]
  },
  {
   "cell_type": "markdown",
   "id": "15c16dfe",
   "metadata": {},
   "source": [
    "Dispatching an experiment its easy. To run the experiment one just need to call the function run_experiment, with the configuration and the iterator."
   ]
  },
  {
   "cell_type": "code",
   "execution_count": 10,
   "id": "222a6e17",
   "metadata": {},
   "outputs": [
    {
     "name": "stderr",
     "output_type": "stream",
     "text": [
      "2021-06-11 14:51:58,167\tINFO services.py:1172 -- View the Ray dashboard at \u001b[1m\u001b[32mhttp://127.0.0.1:8265\u001b[39m\u001b[22m\n"
     ]
    }
   ],
   "source": [
    "execution.run_experiment(configuration, iterator)"
   ]
  },
  {
   "cell_type": "markdown",
   "id": "2571e450",
   "metadata": {},
   "source": [
    "The data is stored with a timestamp in the specified location."
   ]
  },
  {
   "cell_type": "markdown",
   "id": "dabe5b2a",
   "metadata": {},
   "source": [
    "# Extracting data from an experiment"
   ]
  },
  {
   "cell_type": "markdown",
   "id": "6ba1086c",
   "metadata": {},
   "source": [
    "For the sake of simplicity consider the case in which we are interested in computing a plot of the entropy vs connectivity for each one of the basis. The first thing we need to to is to locate the path to the stored data."
   ]
  },
  {
   "cell_type": "code",
   "execution_count": 11,
   "id": "a7e06e66",
   "metadata": {},
   "outputs": [],
   "source": [
    "folder_path = 'folder_path/day\\\\month\\\\year_hour:minute:seconds'\n",
    "#example_folder_path = './Exp/11\\\\06\\\\21_13:34:05'\n",
    "folder_path = './Exp/11\\\\06\\\\21_14:51:59'"
   ]
  },
  {
   "cell_type": "markdown",
   "id": "6750f279",
   "metadata": {},
   "source": [
    "The next step is to identify how the observer named those files. In our case the name is 'entropy' but these tags can be consulted with 'observer.observations'."
   ]
  },
  {
   "cell_type": "code",
   "execution_count": 12,
   "id": "f3f1319f",
   "metadata": {},
   "outputs": [],
   "source": [
    "observer_tag = 'entropy'"
   ]
  },
  {
   "cell_type": "markdown",
   "id": "82da7e46",
   "metadata": {},
   "source": [
    "The next piece of information we require is a list of all the stamps used to distinguish between each set of parameters used in the experiment. Fortunately, the iterator comes with an utily that returns all the information we need. Observe that get_stamp_list returns an array of the same shape as the iterator which facilitates extracting the information."
   ]
  },
  {
   "cell_type": "code",
   "execution_count": 13,
   "id": "e1b35057",
   "metadata": {},
   "outputs": [],
   "source": [
    "file_stamps = iterator.get_stamp_list()"
   ]
  },
  {
   "cell_type": "code",
   "execution_count": 14,
   "id": "6713a535",
   "metadata": {},
   "outputs": [
    {
     "data": {
      "text/plain": [
       "True"
      ]
     },
     "execution_count": 14,
     "metadata": {},
     "output_type": "execute_result"
    }
   ],
   "source": [
    "iterator.shape() == file_stamps.shape"
   ]
  },
  {
   "cell_type": "markdown",
   "id": "8f5441b4",
   "metadata": {},
   "source": [
    "To illustrate how to read the data, we read the per_node entropy for the previous experiment. Reading each file will return several rows (one per each network) and several columns (one per each node). Each entry will contain the average entropy calculated for that particular node (similarly with the other type of observers). For simplicity we will just compute the average entropy of each network (average of the entropy of each node) and again we will compute the average among different realizations (which turns out to be the mean of the array). We will end up with an average entropy per combination of parameters."
   ]
  },
  {
   "cell_type": "code",
   "execution_count": 15,
   "id": "9c5e8a6c",
   "metadata": {},
   "outputs": [],
   "source": [
    "from pybn.functions import read_file\n",
    "import os\n",
    "\n",
    "mean_data = np.zeros(iterator.shape())\n",
    "for basis in range(file_stamps.shape[0]):\n",
    "    for connectivity in range(file_stamps.shape[1]):\n",
    "        file_name = observer_tag + '_' + file_stamps[basis, connectivity]\n",
    "        path = os.path.join(folder_path, file_name)\n",
    "        mean = np.mean(read_file(path, std=False))\n",
    "        mean_data[basis, connectivity] = mean"
   ]
  },
  {
   "cell_type": "code",
   "execution_count": 16,
   "id": "9ef21463",
   "metadata": {},
   "outputs": [
    {
     "data": {
      "text/plain": [
       "(6, 31)"
      ]
     },
     "execution_count": 16,
     "metadata": {},
     "output_type": "execute_result"
    }
   ],
   "source": [
    "mean_data.shape"
   ]
  },
  {
   "cell_type": "markdown",
   "id": "21d35726",
   "metadata": {},
   "source": [
    "Finally, we plot the entropy against the connectivity."
   ]
  },
  {
   "cell_type": "code",
   "execution_count": 17,
   "id": "ab445e05",
   "metadata": {},
   "outputs": [
    {
     "data": {
      "text/plain": [
       "<matplotlib.legend.Legend at 0x7f27bd1cf1c0>"
      ]
     },
     "execution_count": 17,
     "metadata": {},
     "output_type": "execute_result"
    },
    {
     "data": {
      "image/png": "[encoded data removed]",
      "text/plain": [
       "<Figure size 720x432 with 1 Axes>"
      ]
     },
     "metadata": {},
     "output_type": "display_data"
    }
   ],
   "source": [
    "import matplotlib.pyplot as plt\n",
    "import matplotlib.pylab as pl\n",
    "plt.style.use('seaborn')\n",
    "\n",
    "fig = plt.figure(figsize=(10,6))\n",
    "colors = pl.cm.viridis(np.linspace(0,1,len(bias_values)))\n",
    "for i in range(len(bias_values)):\n",
    "    plt.plot(connectivity_values, mean_data[i], label=('bias %.1f'%(bias_values[i])), color=colors[i])\n",
    "plt.xlabel('Connectivity')\n",
    "plt.ylabel('Entropy')\n",
    "plt.legend()"
   ]
  },
  {
   "cell_type": "code",
   "execution_count": null,
   "id": "abcb83bc",
   "metadata": {},
   "outputs": [],
   "source": []
  }
 ],
 "metadata": {
  "kernelspec": {
   "display_name": "Python 3",
   "language": "python",
   "name": "python3"
  },
  "language_info": {
   "codemirror_mode": {
    "name": "ipython",
    "version": 3
   },
   "file_extension": ".py",
   "mimetype": "text/x-python",
   "name": "python",
   "nbconvert_exporter": "python",
   "pygments_lexer": "ipython3",
   "version": "3.8.5"
  }
 },
 "nbformat": 4,
 "nbformat_minor": 5
}
