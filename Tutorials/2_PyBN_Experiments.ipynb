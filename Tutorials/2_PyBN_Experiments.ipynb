{
 "cells": [
  {
   "cell_type": "markdown",
   "id": "d05dc625",
   "metadata": {},
   "source": [
    "# Experiments"
   ]
  },
  {
   "cell_type": "markdown",
   "id": "ba341780",
   "metadata": {},
   "source": [
    "Usually, when working with random boolean netwokrs, one is interested the average behaviour for a particular range of parameters. Performing such calculations naively, as we did previously, can and will lead to large computation times in most cases. Therefore, we added support for desining and running large experiments in parallel with Ray. This experiments can be run with a cluster without major problems thanks to Ray great flexibility. All the elements neccesary are contained in the execution module (ray must be installed independently).import pybn.execution as execution"
   ]
  },
  {
   "cell_type": "code",
   "execution_count": 1,
   "id": "7519fbd0",
   "metadata": {},
   "outputs": [],
   "source": [
    "import pybn.execution as execution\n",
    "from pybn.networks import BooleanNetwork\n",
    "from pybn.graphs import uniform_graph\n",
    "from pybn.observers import EntropyObserver"
   ]
  },
  {
   "cell_type": "markdown",
   "id": "b14121f4",
   "metadata": {},
   "source": [
    "# Designing an experiment"
   ]
  },
  {
   "cell_type": "markdown",
   "id": "f6015dc7",
   "metadata": {},
   "source": [
    "The first thing we need to do is to design an experiment. This is done with via one dictionary and one custom iterator."
   ]
  },
  {
   "cell_type": "markdown",
   "id": "9df2bf67",
   "metadata": {},
   "source": [
    "A reference dictionary to build experiments can be obtained through the new_configuration method. The configuration dictionary is used to declare the STATIC parameters of the experiment."
   ]
  },
  {
   "cell_type": "code",
   "execution_count": 2,
   "id": "5d9227a6",
   "metadata": {},
   "outputs": [
    {
     "data": {
      "text/plain": [
       "{'network': {'class': None, 'seed': None},\n",
       " 'graph': {'function': None, 'seed': None},\n",
       " 'fuzzy': {'conjunction': <function pybn.execution.new_configuration.<locals>.<lambda>(x, y)>,\n",
       "  'disjunction': <function pybn.execution.new_configuration.<locals>.<lambda>(x, y)>,\n",
       "  'negation': <function pybn.execution.new_configuration.<locals>.<lambda>(x)>},\n",
       " 'parameters': {'nodes': 0,\n",
       "  'k': 0,\n",
       "  'w': 0,\n",
       "  'base': 0,\n",
       "  'bias': 0.5,\n",
       "  'steps': 0,\n",
       "  'transient': 0},\n",
       " 'summary': {'per_node': False, 'precision': 6},\n",
       " 'execution': {'networks': 0, 'samples': 0},\n",
       " 'observers': [],\n",
       " 'storage_path': './'}"
      ]
     },
     "execution_count": 2,
     "metadata": {},
     "output_type": "execute_result"
    }
   ],
   "source": [
    "execution.new_configuration()"
   ]
  },
  {
   "cell_type": "markdown",
   "id": "d4d05405",
   "metadata": {},
   "source": [
    "Let's create a new experiment. Notice that you do not need to define every single parameter that comes with the configuration dictionary, only the ones you will use. Within the parameters subdirectory we will introduce the inputs to the graph functions, we have reserved the letters k and w for our predefined functions but if you define any custom graph function the inputs for such function must be introduced inside this subdirectory. For this particular case (uniform_graph) k means the average connectivity of the network. Although this may seem confusing at first it keeps the overall workflow simple."
   ]
  },
  {
   "cell_type": "code",
   "execution_count": 3,
   "id": "3d7b3e0d",
   "metadata": {},
   "outputs": [],
   "source": [
    "configuration = {\n",
    "        'network': {'class': BooleanNetwork},\n",
    "        'graph': {'function': uniform_graph},\n",
    "        'parameters': {'nodes': 32, 'k':0, 'base': 2, 'bias': 0.5, 'steps': 128, 'transient': 0},\n",
    "        'summary':{'per_node': True, 'precision': 6},\n",
    "        'execution': {'networks': 100, 'samples': 100},\n",
    "        'observers': [EntropyObserver],\n",
    "        'storage_path' : './Exp'\n",
    "    }"
   ]
  },
  {
   "cell_type": "markdown",
   "id": "7a895bad",
   "metadata": {},
   "source": [
    "The Execution Iterator is a custom iterator used to declare all VARIABLE parameters of the experiment.\n",
    "This iterator overwrites the configuration dictionary each timestep within the execution function."
   ]
  },
  {
   "cell_type": "code",
   "execution_count": 4,
   "id": "a4bae4fb",
   "metadata": {},
   "outputs": [],
   "source": [
    "iterator = execution.ExecutionIterator()"
   ]
  },
  {
   "cell_type": "markdown",
   "id": "69c754c7",
   "metadata": {},
   "source": [
    "Each target variable must be declared explicitly and the name must be the same that the configuration dictionary uses."
   ]
  },
  {
   "cell_type": "code",
   "execution_count": 5,
   "id": "65310913",
   "metadata": {},
   "outputs": [],
   "source": [
    "import numpy as np\n",
    "\n",
    "bias_values = np.arange(0,1.01,0.1)\n",
    "iterator.register_variable('bias', bias_values)\n",
    "\n",
    "connectivity_values = np.arange(0,3,0.25)\n",
    "iterator.register_variable('k', connectivity_values)"
   ]
  },
  {
   "cell_type": "markdown",
   "id": "535cf4df",
   "metadata": {},
   "source": [
    "It is important to notice that all static parameters will become variables if we declare it within the iterator. For example,"
   ]
  },
  {
   "cell_type": "code",
   "execution_count": 6,
   "id": "5cd643e5",
   "metadata": {},
   "outputs": [],
   "source": [
    "#iterator.register_variable('nodes', range(16,65))"
   ]
  },
  {
   "cell_type": "markdown",
   "id": "b76aad14",
   "metadata": {},
   "source": [
    "will produce an experiment that variates the nodes from 16 to 64 even though we declared nodes  = 32 previously."
   ]
  },
  {
   "cell_type": "markdown",
   "id": "ee990a0a",
   "metadata": {},
   "source": [
    "The iterator also accepts custom lists. For instance,"
   ]
  },
  {
   "cell_type": "code",
   "execution_count": 7,
   "id": "bea94030",
   "metadata": {},
   "outputs": [],
   "source": [
    "#iterator.register_variable('basis', [2,3,5,7,11,13])"
   ]
  },
  {
   "cell_type": "markdown",
   "id": "6ec97caf",
   "metadata": {},
   "source": [
    "The iterator also accepts a list of particular graphs to test."
   ]
  },
  {
   "cell_type": "code",
   "execution_count": 8,
   "id": "1335b1c9",
   "metadata": {},
   "outputs": [],
   "source": [
    "#iterator.register_variable('graph', [graph1, graph2])"
   ]
  },
  {
   "cell_type": "markdown",
   "id": "7cbfcbcc",
   "metadata": {},
   "source": [
    "Or a list of graphs functions."
   ]
  },
  {
   "cell_type": "code",
   "execution_count": 9,
   "id": "2897cb5f",
   "metadata": {},
   "outputs": [],
   "source": [
    "#iterator.register_variable('graph_function', [graph_function1, graph_function2])"
   ]
  },
  {
   "cell_type": "markdown",
   "id": "995d57f0",
   "metadata": {},
   "source": [
    "Only 'graph' or 'graph_function' may be declared at a time."
   ]
  },
  {
   "cell_type": "markdown",
   "id": "50d098ec",
   "metadata": {},
   "source": [
    "# Dispatching an experiment"
   ]
  },
  {
   "cell_type": "markdown",
   "id": "64445504",
   "metadata": {},
   "source": [
    "Dispatching an experiment its easy. To run the experiment one just need to call the function run_experiment, with the configuration and the iterator."
   ]
  },
  {
   "cell_type": "code",
   "execution_count": 10,
   "id": "1f02f749",
   "metadata": {},
   "outputs": [],
   "source": [
    "execution.run_experiment(configuration, iterator)"
   ]
  },
  {
   "cell_type": "markdown",
   "id": "3ba18c68",
   "metadata": {},
   "source": [
    "The data is stored with a timestamp in the specified location."
   ]
  },
  {
   "cell_type": "markdown",
   "id": "e0ba2665",
   "metadata": {},
   "source": [
    "# Extracting data from an experiment"
   ]
  },
  {
   "cell_type": "markdown",
   "id": "b547580d",
   "metadata": {},
   "source": [
    "For the sake of simplicity consider the case in which we are interested in computing a plot of the entropy vs connectivity for each one of the basis. The first thing we need to to is to locate the path to the stored data."
   ]
  },
  {
   "cell_type": "code",
   "execution_count": 11,
   "id": "f3c906a8",
   "metadata": {},
   "outputs": [],
   "source": [
    "folder_path = 'folder_path/day\\\\month\\\\year_hour:minute:seconds'\n",
    "#example_folder_path = './Exp/08\\\\06\\\\21_18:21:25'\n",
    "folder_path = './Exp/08\\\\06\\\\21_18:21:25'"
   ]
  },
  {
   "cell_type": "markdown",
   "id": "4150f9cd",
   "metadata": {},
   "source": [
    "The next step is to identify how the observer named those files. In our case the name is 'entropy' but these tags can be consulted with 'observer.observations'."
   ]
  },
  {
   "cell_type": "code",
   "execution_count": 12,
   "id": "2e1efdb8",
   "metadata": {},
   "outputs": [],
   "source": [
    "observer_tag = 'entropy'"
   ]
  },
  {
   "cell_type": "markdown",
   "id": "465a6040",
   "metadata": {},
   "source": [
    "The next piece of information we require is a list of all the stamps used to distinguish between each set of parameters used in the experiment. Fortunately, the iterator comes with an utily that returns all the information we need. Observe that get_stamp_list returns an array of the same shape as the iterator which facilitates extracting the information."
   ]
  },
  {
   "cell_type": "code",
   "execution_count": 13,
   "id": "82f74a47",
   "metadata": {},
   "outputs": [],
   "source": [
    "file_stamps = iterator.get_stamp_list()"
   ]
  },
  {
   "cell_type": "code",
   "execution_count": 14,
   "id": "cec6dc99",
   "metadata": {},
   "outputs": [
    {
     "data": {
      "text/plain": [
       "True"
      ]
     },
     "execution_count": 14,
     "metadata": {},
     "output_type": "execute_result"
    }
   ],
   "source": [
    "iterator.shape() == file_stamps.shape"
   ]
  },
  {
   "cell_type": "markdown",
   "id": "c910653e",
   "metadata": {},
   "source": [
    "To illustrate how to read the data, we read the per_node entropy for the previous experiment. Reading each file will return several rows (one per each network) and several columns (one per each node). Each entry will contain the average entropy calculated for that particular node (similarly with the other type of observers). For simplicity we will just compute the average entropy of each network (average of the entropy of each node) and again we will compute the average among different realizations (which turns out to be the mean of the array). We will end up with an average entropy per combination of parameters."
   ]
  },
  {
   "cell_type": "code",
   "execution_count": 15,
   "id": "c8205abb",
   "metadata": {},
   "outputs": [
    {
     "ename": "OSError",
     "evalue": "./Exp/08\\06\\21_18:21:25/entropy_[bias_0.00][k_0.00] not found.",
     "output_type": "error",
     "traceback": [
      "\u001b[0;31m---------------------------------------------------------------------------\u001b[0m",
      "\u001b[0;31mOSError\u001b[0m                                   Traceback (most recent call last)",
      "\u001b[0;32m<ipython-input-15-ec24f353cdf4>\u001b[0m in \u001b[0;36m<module>\u001b[0;34m\u001b[0m\n\u001b[1;32m      7\u001b[0m         \u001b[0mfile_name\u001b[0m \u001b[0;34m=\u001b[0m \u001b[0mobserver_tag\u001b[0m \u001b[0;34m+\u001b[0m \u001b[0;34m'_'\u001b[0m \u001b[0;34m+\u001b[0m \u001b[0mfile_stamps\u001b[0m\u001b[0;34m[\u001b[0m\u001b[0mbasis\u001b[0m\u001b[0;34m,\u001b[0m \u001b[0mconnectivity\u001b[0m\u001b[0;34m]\u001b[0m\u001b[0;34m\u001b[0m\u001b[0;34m\u001b[0m\u001b[0m\n\u001b[1;32m      8\u001b[0m         \u001b[0mpath\u001b[0m \u001b[0;34m=\u001b[0m \u001b[0mos\u001b[0m\u001b[0;34m.\u001b[0m\u001b[0mpath\u001b[0m\u001b[0;34m.\u001b[0m\u001b[0mjoin\u001b[0m\u001b[0;34m(\u001b[0m\u001b[0mfolder_path\u001b[0m\u001b[0;34m,\u001b[0m \u001b[0mfile_name\u001b[0m\u001b[0;34m)\u001b[0m\u001b[0;34m\u001b[0m\u001b[0;34m\u001b[0m\u001b[0m\n\u001b[0;32m----> 9\u001b[0;31m         \u001b[0mmean\u001b[0m \u001b[0;34m=\u001b[0m \u001b[0mnp\u001b[0m\u001b[0;34m.\u001b[0m\u001b[0mmean\u001b[0m\u001b[0;34m(\u001b[0m\u001b[0mread_file\u001b[0m\u001b[0;34m(\u001b[0m\u001b[0mpath\u001b[0m\u001b[0;34m,\u001b[0m \u001b[0mstd\u001b[0m\u001b[0;34m=\u001b[0m\u001b[0;32mFalse\u001b[0m\u001b[0;34m)\u001b[0m\u001b[0;34m)\u001b[0m\u001b[0;34m\u001b[0m\u001b[0;34m\u001b[0m\u001b[0m\n\u001b[0m\u001b[1;32m     10\u001b[0m         \u001b[0mmean_data\u001b[0m\u001b[0;34m[\u001b[0m\u001b[0mbasis\u001b[0m\u001b[0;34m,\u001b[0m \u001b[0mconnectivity\u001b[0m\u001b[0;34m]\u001b[0m \u001b[0;34m=\u001b[0m \u001b[0mmean\u001b[0m\u001b[0;34m\u001b[0m\u001b[0;34m\u001b[0m\u001b[0m\n",
      "\u001b[0;32m~/PyBN/pybn/functions.py\u001b[0m in \u001b[0;36mread_file\u001b[0;34m(path, std)\u001b[0m\n\u001b[1;32m     25\u001b[0m \u001b[0;34m\u001b[0m\u001b[0m\n\u001b[1;32m     26\u001b[0m \u001b[0;32mdef\u001b[0m \u001b[0mread_file\u001b[0m\u001b[0;34m(\u001b[0m\u001b[0mpath\u001b[0m\u001b[0;34m,\u001b[0m \u001b[0mstd\u001b[0m\u001b[0;34m=\u001b[0m\u001b[0;32mTrue\u001b[0m\u001b[0;34m)\u001b[0m\u001b[0;34m:\u001b[0m\u001b[0;34m\u001b[0m\u001b[0;34m\u001b[0m\u001b[0m\n\u001b[0;32m---> 27\u001b[0;31m     \u001b[0mdata\u001b[0m \u001b[0;34m=\u001b[0m \u001b[0mnp\u001b[0m\u001b[0;34m.\u001b[0m\u001b[0mgenfromtxt\u001b[0m\u001b[0;34m(\u001b[0m\u001b[0mpath\u001b[0m\u001b[0;34m,\u001b[0m \u001b[0mdelimiter\u001b[0m\u001b[0;34m=\u001b[0m\u001b[0;34m','\u001b[0m\u001b[0;34m)\u001b[0m\u001b[0;34m\u001b[0m\u001b[0;34m\u001b[0m\u001b[0m\n\u001b[0m\u001b[1;32m     28\u001b[0m     \u001b[0;32mif\u001b[0m \u001b[0;34m(\u001b[0m\u001b[0mstd\u001b[0m\u001b[0;34m)\u001b[0m\u001b[0;34m:\u001b[0m\u001b[0;34m\u001b[0m\u001b[0;34m\u001b[0m\u001b[0m\n\u001b[1;32m     29\u001b[0m         \u001b[0mdata_mean\u001b[0m \u001b[0;34m=\u001b[0m \u001b[0mdata\u001b[0m\u001b[0;34m[\u001b[0m\u001b[0;34m:\u001b[0m\u001b[0;34m,\u001b[0m\u001b[0mnp\u001b[0m\u001b[0;34m.\u001b[0m\u001b[0marange\u001b[0m\u001b[0;34m(\u001b[0m\u001b[0;36m0\u001b[0m\u001b[0;34m,\u001b[0m\u001b[0mdata\u001b[0m\u001b[0;34m.\u001b[0m\u001b[0mshape\u001b[0m\u001b[0;34m[\u001b[0m\u001b[0;36m1\u001b[0m\u001b[0;34m]\u001b[0m\u001b[0;34m,\u001b[0m\u001b[0;36m2\u001b[0m\u001b[0;34m)\u001b[0m\u001b[0;34m]\u001b[0m\u001b[0;34m\u001b[0m\u001b[0;34m\u001b[0m\u001b[0m\n",
      "\u001b[0;32m~/PyBN/PyBNenv/lib/python3.8/site-packages/numpy/lib/npyio.py\u001b[0m in \u001b[0;36mgenfromtxt\u001b[0;34m(fname, dtype, comments, delimiter, skip_header, skip_footer, converters, missing_values, filling_values, usecols, names, excludelist, deletechars, replace_space, autostrip, case_sensitive, defaultfmt, unpack, usemask, loose, invalid_raise, max_rows, encoding, like)\u001b[0m\n\u001b[1;32m   1789\u001b[0m             \u001b[0mfname\u001b[0m \u001b[0;34m=\u001b[0m \u001b[0mos_fspath\u001b[0m\u001b[0;34m(\u001b[0m\u001b[0mfname\u001b[0m\u001b[0;34m)\u001b[0m\u001b[0;34m\u001b[0m\u001b[0;34m\u001b[0m\u001b[0m\n\u001b[1;32m   1790\u001b[0m         \u001b[0;32mif\u001b[0m \u001b[0misinstance\u001b[0m\u001b[0;34m(\u001b[0m\u001b[0mfname\u001b[0m\u001b[0;34m,\u001b[0m \u001b[0mstr\u001b[0m\u001b[0;34m)\u001b[0m\u001b[0;34m:\u001b[0m\u001b[0;34m\u001b[0m\u001b[0;34m\u001b[0m\u001b[0m\n\u001b[0;32m-> 1791\u001b[0;31m             \u001b[0mfid\u001b[0m \u001b[0;34m=\u001b[0m \u001b[0mnp\u001b[0m\u001b[0;34m.\u001b[0m\u001b[0mlib\u001b[0m\u001b[0;34m.\u001b[0m\u001b[0m_datasource\u001b[0m\u001b[0;34m.\u001b[0m\u001b[0mopen\u001b[0m\u001b[0;34m(\u001b[0m\u001b[0mfname\u001b[0m\u001b[0;34m,\u001b[0m \u001b[0;34m'rt'\u001b[0m\u001b[0;34m,\u001b[0m \u001b[0mencoding\u001b[0m\u001b[0;34m=\u001b[0m\u001b[0mencoding\u001b[0m\u001b[0;34m)\u001b[0m\u001b[0;34m\u001b[0m\u001b[0;34m\u001b[0m\u001b[0m\n\u001b[0m\u001b[1;32m   1792\u001b[0m             \u001b[0mfid_ctx\u001b[0m \u001b[0;34m=\u001b[0m \u001b[0mcontextlib\u001b[0m\u001b[0;34m.\u001b[0m\u001b[0mclosing\u001b[0m\u001b[0;34m(\u001b[0m\u001b[0mfid\u001b[0m\u001b[0;34m)\u001b[0m\u001b[0;34m\u001b[0m\u001b[0;34m\u001b[0m\u001b[0m\n\u001b[1;32m   1793\u001b[0m         \u001b[0;32melse\u001b[0m\u001b[0;34m:\u001b[0m\u001b[0;34m\u001b[0m\u001b[0;34m\u001b[0m\u001b[0m\n",
      "\u001b[0;32m~/PyBN/PyBNenv/lib/python3.8/site-packages/numpy/lib/_datasource.py\u001b[0m in \u001b[0;36mopen\u001b[0;34m(path, mode, destpath, encoding, newline)\u001b[0m\n\u001b[1;32m    192\u001b[0m \u001b[0;34m\u001b[0m\u001b[0m\n\u001b[1;32m    193\u001b[0m     \u001b[0mds\u001b[0m \u001b[0;34m=\u001b[0m \u001b[0mDataSource\u001b[0m\u001b[0;34m(\u001b[0m\u001b[0mdestpath\u001b[0m\u001b[0;34m)\u001b[0m\u001b[0;34m\u001b[0m\u001b[0;34m\u001b[0m\u001b[0m\n\u001b[0;32m--> 194\u001b[0;31m     \u001b[0;32mreturn\u001b[0m \u001b[0mds\u001b[0m\u001b[0;34m.\u001b[0m\u001b[0mopen\u001b[0m\u001b[0;34m(\u001b[0m\u001b[0mpath\u001b[0m\u001b[0;34m,\u001b[0m \u001b[0mmode\u001b[0m\u001b[0;34m,\u001b[0m \u001b[0mencoding\u001b[0m\u001b[0;34m=\u001b[0m\u001b[0mencoding\u001b[0m\u001b[0;34m,\u001b[0m \u001b[0mnewline\u001b[0m\u001b[0;34m=\u001b[0m\u001b[0mnewline\u001b[0m\u001b[0;34m)\u001b[0m\u001b[0;34m\u001b[0m\u001b[0;34m\u001b[0m\u001b[0m\n\u001b[0m\u001b[1;32m    195\u001b[0m \u001b[0;34m\u001b[0m\u001b[0m\n\u001b[1;32m    196\u001b[0m \u001b[0;34m\u001b[0m\u001b[0m\n",
      "\u001b[0;32m~/PyBN/PyBNenv/lib/python3.8/site-packages/numpy/lib/_datasource.py\u001b[0m in \u001b[0;36mopen\u001b[0;34m(self, path, mode, encoding, newline)\u001b[0m\n\u001b[1;32m    529\u001b[0m                                       encoding=encoding, newline=newline)\n\u001b[1;32m    530\u001b[0m         \u001b[0;32melse\u001b[0m\u001b[0;34m:\u001b[0m\u001b[0;34m\u001b[0m\u001b[0;34m\u001b[0m\u001b[0m\n\u001b[0;32m--> 531\u001b[0;31m             \u001b[0;32mraise\u001b[0m \u001b[0mIOError\u001b[0m\u001b[0;34m(\u001b[0m\u001b[0;34m\"%s not found.\"\u001b[0m \u001b[0;34m%\u001b[0m \u001b[0mpath\u001b[0m\u001b[0;34m)\u001b[0m\u001b[0;34m\u001b[0m\u001b[0;34m\u001b[0m\u001b[0m\n\u001b[0m\u001b[1;32m    532\u001b[0m \u001b[0;34m\u001b[0m\u001b[0m\n\u001b[1;32m    533\u001b[0m \u001b[0;34m\u001b[0m\u001b[0m\n",
      "\u001b[0;31mOSError\u001b[0m: ./Exp/08\\06\\21_18:21:25/entropy_[bias_0.00][k_0.00] not found."
     ]
    }
   ],
   "source": [
    "from pybn.functions import read_file\n",
    "import os\n",
    "\n",
    "mean_data = np.zeros(iterator.shape())\n",
    "for basis in range(file_stamps.shape[0]):\n",
    "    for connectivity in range(file_stamps.shape[1]):\n",
    "        file_name = observer_tag + '_' + file_stamps[basis, connectivity]\n",
    "        path = os.path.join(folder_path, file_name)\n",
    "        mean = np.mean(read_file(path, std=False))\n",
    "        mean_data[basis, connectivity] = mean"
   ]
  },
  {
   "cell_type": "code",
   "execution_count": null,
   "id": "8d71d41a",
   "metadata": {},
   "outputs": [],
   "source": [
    "mean_data.shape"
   ]
  },
  {
   "cell_type": "markdown",
   "id": "bbf01c0a",
   "metadata": {},
   "source": [
    "Finally, we plot the entropy against the connectivity."
   ]
  },
  {
   "cell_type": "code",
   "execution_count": null,
   "id": "f3c81b42",
   "metadata": {},
   "outputs": [],
   "source": [
    "import matplotlib.pyplot as plt\n",
    "import matplotlib.pylab as pl\n",
    "plt.style.use('seaborn')\n",
    "\n",
    "fig = plt.figure(figsize=(10,6))\n",
    "colors = pl.cm.viridis(np.linspace(0,1,len(bias_values)))\n",
    "for i in range(len(bias_values)):\n",
    "    plt.plot(connectivity_values, mean_data[i], label=('bias %.1f'%(bias_values[i])), color=colors[i])\n",
    "plt.xlabel('Connectivity')\n",
    "plt.ylabel('Entropy')\n",
    "plt.legend()"
   ]
  }
 ],
 "metadata": {
  "kernelspec": {
   "display_name": "Python 3",
   "language": "python",
   "name": "python3"
  },
  "language_info": {
   "codemirror_mode": {
    "name": "ipython",
    "version": 3
   },
   "file_extension": ".py",
   "mimetype": "text/x-python",
   "name": "python",
   "nbconvert_exporter": "python",
   "pygments_lexer": "ipython3",
   "version": "3.8.5"
  }
 },
 "nbformat": 4,
 "nbformat_minor": 5
}
