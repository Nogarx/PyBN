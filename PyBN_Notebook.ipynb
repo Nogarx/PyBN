{
 "cells": [
  {
   "cell_type": "code",
   "execution_count": 1,
   "metadata": {},
   "outputs": [],
   "source": [
    "from pybn.fuzzy_network import FuzzyBooleanNetwork\n",
    "from pybn.graphs import create_uniform_graph\n",
    "from pybn.plots import box_plot\n",
    "import pybn.execution as execution\n",
    "import numpy as np"
   ]
  },
  {
   "cell_type": "code",
   "execution_count": 2,
   "metadata": {},
   "outputs": [],
   "source": [
    "configuration = execution.new_configuration()"
   ]
  },
  {
   "cell_type": "code",
   "execution_count": 3,
   "metadata": {},
   "outputs": [],
   "source": [
    "configuration = {\n",
    "        'network': {'class': FuzzyBooleanNetwork, 'nodes': 16, 'basis': 3, 'bias': 0.5, 'seed': None},\n",
    "        'graph': {'function': create_uniform_graph, 'k_start': 0, 'k_end': 8, 'k_step': 0.5, 'seed': None},\n",
    "        'execution': {'networks': 10, 'runs': 10, 'steps': 100, 'transient': 0, 'jobs': 8},\n",
    "        'storage_path' : '/home/nogar/Documents/Exp'\n",
    "    }"
   ]
  },
  {
   "cell_type": "code",
   "execution_count": 4,
   "metadata": {},
   "outputs": [],
   "source": [
    "execution.parallel_execution(configuration)"
   ]
  },
  {
   "cell_type": "code",
   "execution_count": 5,
   "metadata": {},
   "outputs": [],
   "source": [
    "n = 128\n",
    "k = 5\n",
    "b = 16"
   ]
  },
  {
   "cell_type": "code",
   "execution_count": 6,
   "metadata": {},
   "outputs": [],
   "source": [
    "graph = create_uniform_graph(n, k)"
   ]
  },
  {
   "cell_type": "code",
   "execution_count": 7,
   "metadata": {},
   "outputs": [],
   "source": [
    "fuzzynet = FuzzyBooleanNetwork(n, b, graph)"
   ]
  },
  {
   "cell_type": "code",
   "execution_count": null,
   "metadata": {},
   "outputs": [],
   "source": [
    "data_list = []\n",
    "for _ in range(4):\n",
    "    data = np.zeros((128,129))\n",
    "    fuzzynet.set_initial_state()\n",
    "    data[:,0] = fuzzynet.state\n",
    "    for i in range(128):\n",
    "        fuzzynet.step()\n",
    "    for i in range(128):\n",
    "        fuzzynet.step()\n",
    "        data[:,i+1] = fuzzynet.state\n",
    "    data_list.append(data)"
   ]
  },
  {
   "cell_type": "code",
   "execution_count": null,
   "metadata": {},
   "outputs": [],
   "source": [
    "box_plot(data_list, fig_size=(10,5))"
   ]
  },
  {
   "cell_type": "code",
   "execution_count": null,
   "metadata": {},
   "outputs": [],
   "source": []
  }
 ],
 "metadata": {
  "kernelspec": {
   "display_name": "Python 3",
   "language": "python",
   "name": "python3"
  },
  "language_info": {
   "codemirror_mode": {
    "name": "ipython",
    "version": 3
   },
   "file_extension": ".py",
   "mimetype": "text/x-python",
   "name": "python",
   "nbconvert_exporter": "python",
   "pygments_lexer": "ipython3",
   "version": "3.8.5"
  }
 },
 "nbformat": 4,
 "nbformat_minor": 4
}
