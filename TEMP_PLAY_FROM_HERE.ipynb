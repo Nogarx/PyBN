{
 "cells": [
  {
   "cell_type": "code",
   "execution_count": null,
   "id": "62e3e408",
   "metadata": {},
   "outputs": [],
   "source": [
    "import sys\n",
    "sys.path.append(\"./\")\n",
    "\n",
    "from pybn.networks import BooleanNetwork\n",
    "from pybn.graphs import create_uniform_graph\n",
    "from pybn.observers import EntropyObserver\n",
    "import pybn.execution as execution"
   ]
  }
 ],
 "metadata": {
  "kernelspec": {
   "display_name": "Python 3",
   "language": "python",
   "name": "python3"
  },
  "language_info": {
   "codemirror_mode": {
    "name": "ipython",
    "version": 3
   },
   "file_extension": ".py",
   "mimetype": "text/x-python",
   "name": "python",
   "nbconvert_exporter": "python",
   "pygments_lexer": "ipython3",
   "version": "3.8.5"
  }
 },
 "nbformat": 4,
 "nbformat_minor": 5
}
