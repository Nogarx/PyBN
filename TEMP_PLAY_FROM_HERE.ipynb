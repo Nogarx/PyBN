{
 "cells": [
  {
   "cell_type": "code",
   "execution_count": null,
   "id": "ad532f8e",
   "metadata": {},
   "outputs": [],
   "source": [
    "import networkx as nx"
   ]
  },
  {
   "cell_type": "code",
   "execution_count": null,
   "id": "4507f91d",
   "metadata": {},
   "outputs": [],
   "source": [
    "elist = create_uniform_graph(16,1.3)\n",
    "elist"
   ]
  },
  {
   "cell_type": "code",
   "execution_count": null,
   "id": "532e64fc",
   "metadata": {},
   "outputs": [],
   "source": [
    "x = nx.Graph()\n",
    "x = x.add_edges_from(elist)\n",
    "x"
   ]
  },
  {
   "cell_type": "code",
   "execution_count": null,
   "id": "4c622984",
   "metadata": {},
   "outputs": [],
   "source": [
    "x.edges"
   ]
  },
  {
   "cell_type": "code",
   "execution_count": null,
   "id": "087c1394",
   "metadata": {},
   "outputs": [],
   "source": [
    "import numpy as np\n",
    "import matplotlib.pyplot as plt\n",
    "\n",
    "G = nx.DiGraph()\n",
    "colors = []\n",
    "for i in range(16):\n",
    "    if(np.random.rand() < 0.5):\n",
    "        colors.append(0)\n",
    "    else:\n",
    "        colors.append(1)\n",
    "    G.add_node(i, weight=weight)\n",
    "G.add_edges_from(elist)\n",
    "nx.draw(G, pos=nx.circular_layout(G), node_color=colors, cmap=plt.get_cmap('viridis'), vmin=0, vmax=1, with_labels=True)"
   ]
  },
  {
   "cell_type": "code",
   "execution_count": null,
   "id": "132d44ea",
   "metadata": {},
   "outputs": [],
   "source": [
    "G = nx.DiGraph()\n",
    "colors = []\n",
    "for i in range(16):\n",
    "    if(np.random.rand() < 0.5):\n",
    "        colors.append(0)\n",
    "    else:\n",
    "        colors.append(1)\n",
    "    G.add_node(i, weight=weight)\n",
    "G.add_edges_from(elist)\n",
    "nx.draw(G, pos=nx.circular_layout(G), node_color=colors, cmap=plt.get_cmap('viridis'), vmin=0, vmax=1, with_labels=True)"
   ]
  },
  {
   "cell_type": "code",
   "execution_count": null,
   "id": "d24d0723",
   "metadata": {},
   "outputs": [],
   "source": [
    "G.adjacency()"
   ]
  },
  {
   "cell_type": "markdown",
   "id": "20390d67",
   "metadata": {},
   "source": [
    "# EXPERIMENTS"
   ]
  },
  {
   "cell_type": "code",
   "execution_count": 1,
   "id": "ab67df50",
   "metadata": {},
   "outputs": [],
   "source": [
    "from pybn.networks import BooleanNetwork, FuzzyBooleanNetwork\n",
    "from pybn.graphs import create_uniform_graph\n",
    "from pybn.observers import EntropyObserver, FamiliesObserver\n",
    "import numpy as np\n",
    "from tqdm import tqdm\n",
    "import matplotlib.pyplot as plt"
   ]
  },
  {
   "cell_type": "code",
   "execution_count": 2,
   "id": "44ca8c44",
   "metadata": {},
   "outputs": [],
   "source": [
    "# Main parameters\n",
    "nodes = 16\n",
    "runs = 4\n",
    "steps = 128\n",
    "transcient = 128\n",
    "repetitions = 25"
   ]
  },
  {
   "cell_type": "code",
   "execution_count": 3,
   "id": "444d389b",
   "metadata": {},
   "outputs": [],
   "source": [
    "def experiment(nodes, average_connectivity, runs, steps, transcient):\n",
    "\n",
    "    # Create a graph.\n",
    "    graph = create_uniform_graph(nodes, average_connectivity)\n",
    "\n",
    "    # Initialize the network.\n",
    "    network = BooleanNetwork(nodes, graph)\n",
    "\n",
    "    # Attach an observer.\n",
    "    observers = [EntropyObserver(nodes=nodes, runs=runs)] \n",
    "    network.attach_observers(observers)\n",
    "\n",
    "    # Perform several runs.\n",
    "    for _ in range(runs):\n",
    "\n",
    "        # Set a random initial state.\n",
    "        network.set_initial_state(observe=False)\n",
    "\n",
    "        # Perform several pre-warm and unobserved steps.\n",
    "        for _ in range(transcient):\n",
    "            network.step(observe=False)\n",
    "\n",
    "        # Pass the last state to the observers.\n",
    "        network.update_observers()\n",
    "\n",
    "        # Perform several observebed steps.\n",
    "        for _ in range(steps):\n",
    "            network.step(observe=True)\n",
    "\n",
    "    # Get observer's summary.\n",
    "    return network.observers[0].entropy()[0]"
   ]
  },
  {
   "cell_type": "code",
   "execution_count": 4,
   "id": "9ae4024a",
   "metadata": {},
   "outputs": [],
   "source": [
    "def experiment_fuzzy(nodes, average_connectivity, base, runs, steps, transcient):\n",
    "\n",
    "    # Create a graph.\n",
    "    graph = create_uniform_graph(nodes, average_connectivity)\n",
    "\n",
    "    # Initialize the network.\n",
    "    network = FuzzyBooleanNetwork(nodes, base, graph)\n",
    "\n",
    "    # Attach an observer.\n",
    "    observers = [EntropyObserver(nodes=nodes, runs=runs, base=base)] \n",
    "    network.attach_observers(observers)\n",
    "\n",
    "    # Perform several runs.\n",
    "    for _ in range(runs):\n",
    "\n",
    "        # Set a random initial state.\n",
    "        network.set_initial_state(observe=False)\n",
    "\n",
    "        # Perform several pre-warm and unobserved steps.\n",
    "        for _ in range(transcient):\n",
    "            network.step(observe=False)\n",
    "\n",
    "        # Pass the last state to the observers.\n",
    "        network.update_observers()\n",
    "\n",
    "        # Perform several observebed steps.\n",
    "        for _ in range(steps):\n",
    "            network.step(observe=True)\n",
    "            \n",
    "    # Get observer's summary.\n",
    "    return network.observers[0].entropy()[0]"
   ]
  },
  {
   "cell_type": "code",
   "execution_count": 5,
   "id": "d0707553",
   "metadata": {},
   "outputs": [
    {
     "name": "stderr",
     "output_type": "stream",
     "text": [
      "100%|██████████| 25/25 [00:25<00:00,  1.02s/it]\n"
     ]
    },
    {
     "data": {
      "image/png": "[encoded data removed]",
      "text/plain": [
       "<Figure size 432x288 with 1 Axes>"
      ]
     },
     "metadata": {
      "needs_background": "light"
     },
     "output_type": "display_data"
    }
   ],
   "source": [
    "entropy = []\n",
    "for k in tqdm(np.arange(0,5,0.2)):\n",
    "    k_entropy = []\n",
    "    for rep in range(repetitions):\n",
    "        k_entropy.append(experiment(nodes, k, runs, steps, transcient))\n",
    "    entropy.append(np.mean(k_entropy))\n",
    "\n",
    "plt.plot(np.arange(0,5,0.2), entropy)\n",
    "plt.savefig('entropy.png')"
   ]
  },
  {
   "cell_type": "code",
   "execution_count": 6,
   "id": "b8c6e00f",
   "metadata": {},
   "outputs": [
    {
     "name": "stderr",
     "output_type": "stream",
     "text": [
      "100%|██████████| 4/4 [02:08<00:00, 32.16s/it]\n"
     ]
    },
    {
     "data": {
      "image/png": "[encoded data removed]",
      "text/plain": [
       "<Figure size 432x288 with 1 Axes>"
      ]
     },
     "metadata": {
      "needs_background": "light"
     },
     "output_type": "display_data"
    }
   ],
   "source": [
    "base_entropies = []\n",
    "for base in tqdm(range(2,6)):\n",
    "    entropy = []\n",
    "    for k in np.arange(0,5,0.2):\n",
    "        k_entropy = []\n",
    "        for rep in range(repetitions):\n",
    "            k_entropy.append(experiment_fuzzy(nodes, k, base, runs, steps, transcient))\n",
    "        entropy.append(np.mean(k_entropy))\n",
    "    base_entropies.append(entropy)\n",
    "\n",
    "for base in range(len(base_entropies)):\n",
    "    plt.plot(np.arange(0,5,0.2), base_entropies[base])\n",
    "plt.savefig('entropy2.png')\n"
   ]
  }
 ],
 "metadata": {
  "kernelspec": {
   "display_name": "Python 3",
   "language": "python",
   "name": "python3"
  },
  "language_info": {
   "codemirror_mode": {
    "name": "ipython",
    "version": 3
   },
   "file_extension": ".py",
   "mimetype": "text/x-python",
   "name": "python",
   "nbconvert_exporter": "python",
   "pygments_lexer": "ipython3",
   "version": "3.8.5"
  }
 },
 "nbformat": 4,
 "nbformat_minor": 5
}
