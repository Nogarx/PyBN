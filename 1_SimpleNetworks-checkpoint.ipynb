{
 "cells": [
  {
   "cell_type": "code",
   "execution_count": null,
   "id": "af9244df",
   "metadata": {},
   "outputs": [],
   "source": [
    "from pybn.networks import BooleanNetwork, FuzzyBooleanNetwork\n",
    "from pybn.graphs import create_uniform_graph\n",
    "from pybn.observers import EntropyObserver, TransitionsObserver"
   ]
  },
  {
   "cell_type": "markdown",
   "id": "4cee1028",
   "metadata": {},
   "source": [
    "# Simple execution"
   ]
  },
  {
   "cell_type": "code",
   "execution_count": null,
   "id": "b5170324",
   "metadata": {},
   "outputs": [],
   "source": [
    "# Main parameters\n",
    "nodes = 16\n",
    "average_connectivity = 3.4\n",
    "steps = 128"
   ]
  },
  {
   "cell_type": "code",
   "execution_count": null,
   "id": "22f3ea84",
   "metadata": {},
   "outputs": [],
   "source": [
    "# Create a graph.\n",
    "graph = create_uniform_graph(nodes, average_connectivity)\n",
    "\n",
    "# Initialize the network.\n",
    "network = BooleanNetwork(nodes, graph)\n",
    "\n",
    "# Attach an observer.\n",
    "network.attach_observers([EntropyObserver(nodes=nodes)])"
   ]
  },
  {
   "cell_type": "code",
   "execution_count": null,
   "id": "817e5fbc",
   "metadata": {},
   "outputs": [],
   "source": [
    "# Set a random initial state.\n",
    "network.set_initial_state(observe=True)\n",
    "\n",
    "# Perform several steps.\n",
    "for _ in range(steps):\n",
    "    network.step(observe=True)\n",
    "    \n",
    "# Get observer's summary.    \n",
    "print(network.observers[0].summary())"
   ]
  },
  {
   "cell_type": "markdown",
   "id": "7495b758",
   "metadata": {},
   "source": [
    "# Multiple executions "
   ]
  },
  {
   "cell_type": "code",
   "execution_count": null,
   "id": "9103d968",
   "metadata": {},
   "outputs": [],
   "source": [
    "# Main parameters\n",
    "nodes = 16\n",
    "average_connectivity = 3.4\n",
    "base = 3\n",
    "runs = 8\n",
    "steps = 128"
   ]
  },
  {
   "cell_type": "code",
   "execution_count": null,
   "id": "20e551fe",
   "metadata": {},
   "outputs": [],
   "source": [
    "# Create a graph.\n",
    "graph = create_uniform_graph(nodes, average_connectivity)\n",
    "\n",
    "# Initialize the network.\n",
    "fuzzy = FuzzyBooleanNetwork(nodes, base, graph)\n",
    "\n",
    "# Attach an observer.\n",
    "fuzzy.attach_observers([EntropyObserver(nodes=nodes, runs=runs, base=base)])"
   ]
  },
  {
   "cell_type": "code",
   "execution_count": null,
   "id": "c2c46640",
   "metadata": {},
   "outputs": [],
   "source": [
    "# Perform several runs.\n",
    "for _ in range(runs):\n",
    "    \n",
    "    # Set a random initial state.\n",
    "    fuzzy.set_initial_state(observe=True)\n",
    "    \n",
    "    # Perform several steps.\n",
    "    for _ in range(steps):\n",
    "        fuzzy.step(observe=True)\n",
    "        \n",
    "# Get observer's summary.\n",
    "print(fuzzy.observers[0].summary())"
   ]
  },
  {
   "cell_type": "markdown",
   "id": "ba6ebb93",
   "metadata": {},
   "source": [
    "# Complex executions "
   ]
  },
  {
   "cell_type": "code",
   "execution_count": null,
   "id": "a2cbb3b2",
   "metadata": {},
   "outputs": [],
   "source": [
    "# Main parameters\n",
    "nodes = 16\n",
    "average_connectivity = 3.4\n",
    "runs = 4\n",
    "steps = 128\n",
    "transcient = 128"
   ]
  },
  {
   "cell_type": "code",
   "execution_count": null,
   "id": "98226773",
   "metadata": {},
   "outputs": [],
   "source": [
    "# Create a graph.\n",
    "graph = create_uniform_graph(nodes, average_connectivity)\n",
    "\n",
    "# Initialize the network.\n",
    "network = BooleanNetwork(nodes, graph)\n",
    "\n",
    "# Attach an observer.\n",
    "observers = [EntropyObserver(nodes=nodes, runs=runs),\n",
    "             TransitionsObserver(nodes=nodes, runs=runs)] \n",
    "network.attach_observers(observers)"
   ]
  },
  {
   "cell_type": "code",
   "execution_count": null,
   "id": "d24b2ebe",
   "metadata": {},
   "outputs": [],
   "source": [
    "# Perform several runs.\n",
    "for _ in range(runs):\n",
    "    \n",
    "    # Set a random initial state.\n",
    "    network.set_initial_state(observe=False)\n",
    "    \n",
    "    # Perform several pre-warm and unobserved steps.\n",
    "    for _ in range(transcient):\n",
    "        network.step(observe=False)\n",
    "    \n",
    "    # Pass the last state to the observers.\n",
    "    network.update_observers()\n",
    "    \n",
    "    # Perform several observebed steps.\n",
    "    for _ in range(steps):\n",
    "        network.step(observe=True)\n",
    "        \n",
    "    # Requires transitions=True when declaring the family observer.\n",
    "    # --> FamiliesObserver(nodes=nodes, runs=runs, transitions=True)\n",
    "    #run_family = network.observers[1].families()\n",
    "        \n",
    "# Get observer's summary.\n",
    "network.observers[0].summary()\n",
    "network.observers[1].summary()"
   ]
  }
 ],
 "metadata": {
  "kernelspec": {
   "display_name": "Python 3",
   "language": "python",
   "name": "python3"
  },
  "language_info": {
   "codemirror_mode": {
    "name": "ipython",
    "version": 3
   },
   "file_extension": ".py",
   "mimetype": "text/x-python",
   "name": "python",
   "nbconvert_exporter": "python",
   "pygments_lexer": "ipython3",
   "version": "3.8.5"
  }
 },
 "nbformat": 4,
 "nbformat_minor": 5
}