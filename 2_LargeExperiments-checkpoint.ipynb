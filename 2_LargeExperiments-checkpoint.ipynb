{
 "cells": [
  {
   "cell_type": "code",
   "execution_count": 1,
   "id": "1ddbb37d",
   "metadata": {},
   "outputs": [],
   "source": [
    "from pybn.networks import BooleanNetwork\n",
    "from pybn.graphs import create_uniform_graph\n",
    "from pybn.observers import EntropyObserver\n",
    "from pybn.functions import read_file\n",
    "import pybn.execution as execution\n",
    "import numpy as np\n",
    "import os\n",
    "\n",
    "import matplotlib.pyplot as plt\n",
    "import matplotlib.pylab as pl\n",
    "plt.style.use('seaborn')"
   ]
  },
  {
   "cell_type": "markdown",
   "id": "0ee764f0",
   "metadata": {},
   "source": [
    "# Designing an experiment"
   ]
  },
  {
   "cell_type": "markdown",
   "id": "33c907a7",
   "metadata": {},
   "source": [
    "A reference dictionary to build experiments can be obtained through the new_configuration method. The configuration dictionary is used to declare the STATIC parameters of the experiment."
   ]
  },
  {
   "cell_type": "code",
   "execution_count": 2,
   "id": "fe1880fb",
   "metadata": {},
   "outputs": [
    {
     "data": {
      "text/plain": [
       "{'network': {'class': None, 'seed': None},\n",
       " 'graph': {'function': None, 'seed': None},\n",
       " 'fuzzy': {'conjunction': <function pybn.execution.new_configuration.<locals>.<lambda>(x, y)>,\n",
       "  'disjunction': <function pybn.execution.new_configuration.<locals>.<lambda>(x, y)>,\n",
       "  'negation': <function pybn.execution.new_configuration.<locals>.<lambda>(x)>},\n",
       " 'parameters': {'nodes': 0,\n",
       "  'basis': 0,\n",
       "  'bias': 0.5,\n",
       "  'connectivity': 0,\n",
       "  'steps': 0,\n",
       "  'transient': 0},\n",
       " 'summary': {'per_node': False, 'precision': 6},\n",
       " 'execution': {'networks': 0, 'samples': 0},\n",
       " 'observers': [],\n",
       " 'storage_path': './'}"
      ]
     },
     "execution_count": 2,
     "metadata": {},
     "output_type": "execute_result"
    }
   ],
   "source": [
    "execution.new_configuration()"
   ]
  },
  {
   "cell_type": "markdown",
   "id": "e9560a27",
   "metadata": {},
   "source": [
    "Configuring the experiment."
   ]
  },
  {
   "cell_type": "code",
   "execution_count": 3,
   "id": "7fa71380",
   "metadata": {},
   "outputs": [],
   "source": [
    "configuration = {\n",
    "        'network': {'class': BooleanNetwork, 'seed': None},\n",
    "        'graph': {'function': create_uniform_graph, 'seed': None},\n",
    "        'fuzzy': {'conjunction': lambda x,y : min(x,y), 'disjunction': lambda x,y : max(x,y), 'negation': lambda x : 1 - x},\n",
    "        'parameters': {'nodes': 32, 'basis': 2, 'bias': 0.5,'connectivity': 0, 'steps': 128, 'transient': 0},\n",
    "        'summary':{'per_node': True, 'precision': 6},\n",
    "        'execution': {'networks': 100, 'samples': 100},\n",
    "        'observers': [EntropyObserver],\n",
    "        'storage_path' : './Exp'\n",
    "    }"
   ]
  },
  {
   "cell_type": "markdown",
   "id": "0bd005c7",
   "metadata": {},
   "source": [
    "The Execution Iterator is a custom iterator used to declare all VARIABLE parameters of the experiment.\n",
    "This iterator overwrites the configuration dictionary each timestep within the execution function."
   ]
  },
  {
   "cell_type": "code",
   "execution_count": 4,
   "id": "64117475",
   "metadata": {},
   "outputs": [],
   "source": [
    "iterator = execution.ExecutionIterator()"
   ]
  },
  {
   "cell_type": "markdown",
   "id": "b89b4bc3",
   "metadata": {},
   "source": [
    "Each target variable must be declared explicitly and the name must be the same that the configuration dictionary uses."
   ]
  },
  {
   "cell_type": "code",
   "execution_count": 5,
   "id": "29829b43",
   "metadata": {},
   "outputs": [],
   "source": [
    "bias_values = np.arange(0,1.01,0.1)\n",
    "iterator.register_variable('bias', bias_values)\n",
    "\n",
    "connectivity_values = np.arange(0,3,0.25)\n",
    "iterator.register_variable('connectivity', connectivity_values)"
   ]
  },
  {
   "cell_type": "markdown",
   "id": "6e16a20b",
   "metadata": {},
   "source": [
    "It is important to notice that all static parameters will become variables if we declare it within the iterator. For example,"
   ]
  },
  {
   "cell_type": "code",
   "execution_count": 6,
   "id": "e10021ad",
   "metadata": {},
   "outputs": [],
   "source": [
    "#iterator.register_variable('nodes', range(16,65))"
   ]
  },
  {
   "cell_type": "markdown",
   "id": "3fe2d7ca",
   "metadata": {},
   "source": [
    "will produce an experiment that variates the nodes from 16 to 64 even though we declared nodes  = 32 previously."
   ]
  },
  {
   "cell_type": "markdown",
   "id": "35e59eb9",
   "metadata": {},
   "source": [
    "The iterator also accepts custom lists. For instance,"
   ]
  },
  {
   "cell_type": "code",
   "execution_count": 7,
   "id": "f00acce5",
   "metadata": {},
   "outputs": [],
   "source": [
    "#iterator.register_variable('basis', [2,3,5,7,11,13])"
   ]
  },
  {
   "cell_type": "markdown",
   "id": "6c35abdb",
   "metadata": {},
   "source": [
    "The iterator also accepts a list of particular graphs to test."
   ]
  },
  {
   "cell_type": "code",
   "execution_count": 8,
   "id": "397080dd",
   "metadata": {},
   "outputs": [],
   "source": [
    "#iterator.register_variable('graph', [graph1, graph2])"
   ]
  },
  {
   "cell_type": "markdown",
   "id": "a0425ba7",
   "metadata": {},
   "source": [
    "Or a list of graphs functions."
   ]
  },
  {
   "cell_type": "code",
   "execution_count": 9,
   "id": "7ae630b0",
   "metadata": {},
   "outputs": [],
   "source": [
    "#iterator.register_variable('graph_function', [graph_function1, graph_function2])"
   ]
  },
  {
   "cell_type": "markdown",
   "id": "13df6a26",
   "metadata": {},
   "source": [
    "Only 'graph' or 'graph_function' may be declared at a time."
   ]
  },
  {
   "cell_type": "markdown",
   "id": "bffcd25d",
   "metadata": {},
   "source": [
    "# Dispatching an experiment"
   ]
  },
  {
   "cell_type": "markdown",
   "id": "476b18ec",
   "metadata": {},
   "source": [
    "Dispatching an experiment its easy. To run the experiment one just need to call the function run_experiment, with the configuration and the iterator."
   ]
  },
  {
   "cell_type": "code",
   "execution_count": 10,
   "id": "1e75d3d4",
   "metadata": {},
   "outputs": [],
   "source": [
    "#execution.run_experiment(configuration, iterator)"
   ]
  },
  {
   "cell_type": "markdown",
   "id": "9b1b9dc4",
   "metadata": {},
   "source": [
    "The data is stored with a timestamp in the specified location."
   ]
  },
  {
   "cell_type": "markdown",
   "id": "352a2e73",
   "metadata": {},
   "source": [
    "# Extracting data from an experiment"
   ]
  },
  {
   "cell_type": "markdown",
   "id": "c69d37b8",
   "metadata": {},
   "source": [
    "For the sake of simplicity consider the case in which we are interested in computing a plot of the entropy vs connectivity for each one of the basis. The first thing we need to to is to locate the path to the stored data."
   ]
  },
  {
   "cell_type": "code",
   "execution_count": 11,
   "id": "b7f0202c",
   "metadata": {},
   "outputs": [],
   "source": [
    "folder_path = 'folder_path/day\\\\month\\\\year_hour:minute:seconds'\n",
    "#example_folder_path = './Exp/08\\\\06\\\\21_18:21:25'"
   ]
  },
  {
   "cell_type": "markdown",
   "id": "15f4f59d",
   "metadata": {},
   "source": [
    "The next step is to identify how the observer named those files. In our case the name is 'entropy' but these tags can be consulted with 'observer.observations'."
   ]
  },
  {
   "cell_type": "code",
   "execution_count": 12,
   "id": "5a394b14",
   "metadata": {},
   "outputs": [],
   "source": [
    "observer_tag = 'entropy'"
   ]
  },
  {
   "cell_type": "markdown",
   "id": "ab3f8c77",
   "metadata": {},
   "source": [
    "The next piece of information we require is a list of all the stamps used to distinguish between each set of parameters used in the experiment. Fortunately, the iterator comes with an utily that returns all the information we need. Observe that get_stamp_list returns an array of the same shape as the iterator which facilitates extracting the information."
   ]
  },
  {
   "cell_type": "code",
   "execution_count": 13,
   "id": "ca07cca0",
   "metadata": {},
   "outputs": [
    {
     "data": {
      "text/plain": [
       "array([['[bias_0.00][connectivity_0.00]',\n",
       "        '[bias_0.00][connectivity_0.25]',\n",
       "        '[bias_0.00][connectivity_0.50]',\n",
       "        '[bias_0.00][connectivity_0.75]',\n",
       "        '[bias_0.00][connectivity_1.00]',\n",
       "        '[bias_0.00][connectivity_1.25]',\n",
       "        '[bias_0.00][connectivity_1.50]',\n",
       "        '[bias_0.00][connectivity_1.75]',\n",
       "        '[bias_0.00][connectivity_2.00]',\n",
       "        '[bias_0.00][connectivity_2.25]',\n",
       "        '[bias_0.00][connectivity_2.50]',\n",
       "        '[bias_0.00][connectivity_2.75]'],\n",
       "       ['[bias_0.10][connectivity_0.00]',\n",
       "        '[bias_0.10][connectivity_0.25]',\n",
       "        '[bias_0.10][connectivity_0.50]',\n",
       "        '[bias_0.10][connectivity_0.75]',\n",
       "        '[bias_0.10][connectivity_1.00]',\n",
       "        '[bias_0.10][connectivity_1.25]',\n",
       "        '[bias_0.10][connectivity_1.50]',\n",
       "        '[bias_0.10][connectivity_1.75]',\n",
       "        '[bias_0.10][connectivity_2.00]',\n",
       "        '[bias_0.10][connectivity_2.25]',\n",
       "        '[bias_0.10][connectivity_2.50]',\n",
       "        '[bias_0.10][connectivity_2.75]'],\n",
       "       ['[bias_0.20][connectivity_0.00]',\n",
       "        '[bias_0.20][connectivity_0.25]',\n",
       "        '[bias_0.20][connectivity_0.50]',\n",
       "        '[bias_0.20][connectivity_0.75]',\n",
       "        '[bias_0.20][connectivity_1.00]',\n",
       "        '[bias_0.20][connectivity_1.25]',\n",
       "        '[bias_0.20][connectivity_1.50]',\n",
       "        '[bias_0.20][connectivity_1.75]',\n",
       "        '[bias_0.20][connectivity_2.00]',\n",
       "        '[bias_0.20][connectivity_2.25]',\n",
       "        '[bias_0.20][connectivity_2.50]',\n",
       "        '[bias_0.20][connectivity_2.75]'],\n",
       "       ['[bias_0.30][connectivity_0.00]',\n",
       "        '[bias_0.30][connectivity_0.25]',\n",
       "        '[bias_0.30][connectivity_0.50]',\n",
       "        '[bias_0.30][connectivity_0.75]',\n",
       "        '[bias_0.30][connectivity_1.00]',\n",
       "        '[bias_0.30][connectivity_1.25]',\n",
       "        '[bias_0.30][connectivity_1.50]',\n",
       "        '[bias_0.30][connectivity_1.75]',\n",
       "        '[bias_0.30][connectivity_2.00]',\n",
       "        '[bias_0.30][connectivity_2.25]',\n",
       "        '[bias_0.30][connectivity_2.50]',\n",
       "        '[bias_0.30][connectivity_2.75]'],\n",
       "       ['[bias_0.40][connectivity_0.00]',\n",
       "        '[bias_0.40][connectivity_0.25]',\n",
       "        '[bias_0.40][connectivity_0.50]',\n",
       "        '[bias_0.40][connectivity_0.75]',\n",
       "        '[bias_0.40][connectivity_1.00]',\n",
       "        '[bias_0.40][connectivity_1.25]',\n",
       "        '[bias_0.40][connectivity_1.50]',\n",
       "        '[bias_0.40][connectivity_1.75]',\n",
       "        '[bias_0.40][connectivity_2.00]',\n",
       "        '[bias_0.40][connectivity_2.25]',\n",
       "        '[bias_0.40][connectivity_2.50]',\n",
       "        '[bias_0.40][connectivity_2.75]'],\n",
       "       ['[bias_0.50][connectivity_0.00]',\n",
       "        '[bias_0.50][connectivity_0.25]',\n",
       "        '[bias_0.50][connectivity_0.50]',\n",
       "        '[bias_0.50][connectivity_0.75]',\n",
       "        '[bias_0.50][connectivity_1.00]',\n",
       "        '[bias_0.50][connectivity_1.25]',\n",
       "        '[bias_0.50][connectivity_1.50]',\n",
       "        '[bias_0.50][connectivity_1.75]',\n",
       "        '[bias_0.50][connectivity_2.00]',\n",
       "        '[bias_0.50][connectivity_2.25]',\n",
       "        '[bias_0.50][connectivity_2.50]',\n",
       "        '[bias_0.50][connectivity_2.75]'],\n",
       "       ['[bias_0.60][connectivity_0.00]',\n",
       "        '[bias_0.60][connectivity_0.25]',\n",
       "        '[bias_0.60][connectivity_0.50]',\n",
       "        '[bias_0.60][connectivity_0.75]',\n",
       "        '[bias_0.60][connectivity_1.00]',\n",
       "        '[bias_0.60][connectivity_1.25]',\n",
       "        '[bias_0.60][connectivity_1.50]',\n",
       "        '[bias_0.60][connectivity_1.75]',\n",
       "        '[bias_0.60][connectivity_2.00]',\n",
       "        '[bias_0.60][connectivity_2.25]',\n",
       "        '[bias_0.60][connectivity_2.50]',\n",
       "        '[bias_0.60][connectivity_2.75]'],\n",
       "       ['[bias_0.70][connectivity_0.00]',\n",
       "        '[bias_0.70][connectivity_0.25]',\n",
       "        '[bias_0.70][connectivity_0.50]',\n",
       "        '[bias_0.70][connectivity_0.75]',\n",
       "        '[bias_0.70][connectivity_1.00]',\n",
       "        '[bias_0.70][connectivity_1.25]',\n",
       "        '[bias_0.70][connectivity_1.50]',\n",
       "        '[bias_0.70][connectivity_1.75]',\n",
       "        '[bias_0.70][connectivity_2.00]',\n",
       "        '[bias_0.70][connectivity_2.25]',\n",
       "        '[bias_0.70][connectivity_2.50]',\n",
       "        '[bias_0.70][connectivity_2.75]'],\n",
       "       ['[bias_0.80][connectivity_0.00]',\n",
       "        '[bias_0.80][connectivity_0.25]',\n",
       "        '[bias_0.80][connectivity_0.50]',\n",
       "        '[bias_0.80][connectivity_0.75]',\n",
       "        '[bias_0.80][connectivity_1.00]',\n",
       "        '[bias_0.80][connectivity_1.25]',\n",
       "        '[bias_0.80][connectivity_1.50]',\n",
       "        '[bias_0.80][connectivity_1.75]',\n",
       "        '[bias_0.80][connectivity_2.00]',\n",
       "        '[bias_0.80][connectivity_2.25]',\n",
       "        '[bias_0.80][connectivity_2.50]',\n",
       "        '[bias_0.80][connectivity_2.75]'],\n",
       "       ['[bias_0.90][connectivity_0.00]',\n",
       "        '[bias_0.90][connectivity_0.25]',\n",
       "        '[bias_0.90][connectivity_0.50]',\n",
       "        '[bias_0.90][connectivity_0.75]',\n",
       "        '[bias_0.90][connectivity_1.00]',\n",
       "        '[bias_0.90][connectivity_1.25]',\n",
       "        '[bias_0.90][connectivity_1.50]',\n",
       "        '[bias_0.90][connectivity_1.75]',\n",
       "        '[bias_0.90][connectivity_2.00]',\n",
       "        '[bias_0.90][connectivity_2.25]',\n",
       "        '[bias_0.90][connectivity_2.50]',\n",
       "        '[bias_0.90][connectivity_2.75]'],\n",
       "       ['[bias_1.00][connectivity_0.00]',\n",
       "        '[bias_1.00][connectivity_0.25]',\n",
       "        '[bias_1.00][connectivity_0.50]',\n",
       "        '[bias_1.00][connectivity_0.75]',\n",
       "        '[bias_1.00][connectivity_1.00]',\n",
       "        '[bias_1.00][connectivity_1.25]',\n",
       "        '[bias_1.00][connectivity_1.50]',\n",
       "        '[bias_1.00][connectivity_1.75]',\n",
       "        '[bias_1.00][connectivity_2.00]',\n",
       "        '[bias_1.00][connectivity_2.25]',\n",
       "        '[bias_1.00][connectivity_2.50]',\n",
       "        '[bias_1.00][connectivity_2.75]']], dtype=object)"
      ]
     },
     "execution_count": 13,
     "metadata": {},
     "output_type": "execute_result"
    }
   ],
   "source": [
    "file_stamps = iterator.get_stamp_list()\n",
    "file_stamps"
   ]
  },
  {
   "cell_type": "code",
   "execution_count": 14,
   "id": "f6567030",
   "metadata": {},
   "outputs": [
    {
     "data": {
      "text/plain": [
       "True"
      ]
     },
     "execution_count": 14,
     "metadata": {},
     "output_type": "execute_result"
    }
   ],
   "source": [
    "iterator.shape() == file_stamps.shape"
   ]
  },
  {
   "cell_type": "markdown",
   "id": "b275b9cf",
   "metadata": {},
   "source": [
    "To illustrate how to read the data, we requested the per_node entropy in the predefined an experiment. Reading each file while return several rows (one per each network) and several columns (one per each node). Each entry will contain the average entropy calculated for that particular node (similarly with the other observers). For simplicity we will just compute the average entropy of each network (average of the entropy of each node) and again we will compute the average among different realizations. This will return an average value for the entropy for each set of parameters."
   ]
  },
  {
   "cell_type": "code",
   "execution_count": 15,
   "id": "efe9604e",
   "metadata": {},
   "outputs": [],
   "source": [
    "mean_data = np.zeros(iterator.shape())\n",
    "for basis in range(file_stamps.shape[0]):\n",
    "    for connectivity in range(file_stamps.shape[1]):\n",
    "        file_name = observer_tag + '_' + file_stamps[basis, connectivity]\n",
    "        path = os.path.join(folder_path, file_name)\n",
    "        mean = np.mean(read_file(path, std=False))\n",
    "        mean_data[basis, connectivity] = mean"
   ]
  },
  {
   "cell_type": "code",
   "execution_count": 16,
   "id": "eb76653a",
   "metadata": {},
   "outputs": [
    {
     "data": {
      "text/plain": [
       "(11, 12)"
      ]
     },
     "execution_count": 16,
     "metadata": {},
     "output_type": "execute_result"
    }
   ],
   "source": [
    "mean_data.shape"
   ]
  },
  {
   "cell_type": "markdown",
   "id": "3305969f",
   "metadata": {},
   "source": [
    "Finally, we plot the entropy against the connectivity."
   ]
  },
  {
   "cell_type": "code",
   "execution_count": 17,
   "id": "54f86c68",
   "metadata": {},
   "outputs": [
    {
     "data": {
      "text/plain": [
       "<matplotlib.legend.Legend at 0x7fbc98305a30>"
      ]
     },
     "execution_count": 17,
     "metadata": {},
     "output_type": "execute_result"
    },
    {
     "data": {
      "image/png": "[encoded data removed]",
      "text/plain": [
       "<Figure size 720x432 with 1 Axes>"
      ]
     },
     "metadata": {},
     "output_type": "display_data"
    }
   ],
   "source": [
    "fig = plt.figure(figsize=(10,6))\n",
    "colors = pl.cm.viridis(np.linspace(0,1,len(bias_values)))\n",
    "for i in range(len(bias_values)):\n",
    "    plt.plot(connectivity_values, mean_data[i], label=('bias %.1f'%(bias_values[i])), color=colors[i])\n",
    "plt.xlabel('Connectivity')\n",
    "plt.ylabel('Entropy')\n",
    "plt.legend()"
   ]
  },
  {
   "cell_type": "code",
   "execution_count": null,
   "id": "61d6d281",
   "metadata": {},
   "outputs": [],
   "source": []
  }
 ],
 "metadata": {
  "kernelspec": {
   "display_name": "Python 3",
   "language": "python",
   "name": "python3"
  },
  "language_info": {
   "codemirror_mode": {
    "name": "ipython",
    "version": 3
   },
   "file_extension": ".py",
   "mimetype": "text/x-python",
   "name": "python",
   "nbconvert_exporter": "python",
   "pygments_lexer": "ipython3",
   "version": "3.8.5"
  }
 },
 "nbformat": 4,
 "nbformat_minor": 5
}
