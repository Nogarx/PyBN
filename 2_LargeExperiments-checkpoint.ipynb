{
 "cells": [
  {
   "cell_type": "code",
   "execution_count": null,
   "id": "c156132a",
   "metadata": {},
   "outputs": [],
   "source": [
    "from pybn.networks import BooleanNetwork\n",
    "from pybn.graphs import create_uniform_graph\n",
    "from pybn.observers import EntropyObserver\n",
    "import pybn.execution as execution"
   ]
  },
  {
   "cell_type": "markdown",
   "id": "64ba917f",
   "metadata": {},
   "source": [
    "# Designing an experiment"
   ]
  },
  {
   "cell_type": "code",
   "execution_count": null,
   "id": "c4042f4e",
   "metadata": {},
   "outputs": [],
   "source": [
    "# A reference dictionary to build experiments can be obtained through the new_configuration method.\n",
    "# The configuration dictionary is used to declare the STATIC parameters of the experiment.\n",
    "experiment = execution.new_configuration()\n",
    "experiment"
   ]
  },
  {
   "cell_type": "code",
   "execution_count": null,
   "metadata": {},
   "outputs": [],
   "source": [
    "# Configuring the experiment.\n",
    "configuration = {\n",
    "        'network': {'class': BooleanNetwork, 'seed': None},\n",
    "        'graph': {'function': create_uniform_graph, 'seed': None},\n",
    "        'fuzzy': {'conjunction': lambda x,y : min(x,y), 'disjunction': lambda x,y : max(x,y), 'negation': lambda x : 1 - x},\n",
    "        'parameters': {'nodes': 32, 'basis': 0, 'bias': 0.5,'connectivity': 0, 'steps': 128, 'transient': 32},\n",
    "        'execution': {'networks': 10, 'samples': 10},\n",
    "        'observers': [EntropyObserver],\n",
    "        'storage_path' : './'\n",
    "    }"
   ]
  },
  {
   "cell_type": "code",
   "execution_count": null,
   "id": "871e9a98",
   "metadata": {},
   "outputs": [],
   "source": [
    "# The Execution Iterator is a custom iterator used to declare all VARIABLE parameters of the experiment.\n",
    "# This iterator overwrites the configuration dictionary each timestep within the execution function.\n",
    "iterator = execution.ExecutionIterator()\n",
    "\n",
    "# Each target variable must be declared explicitly and the name must be the same that the configuration dictionary uses.\n",
    "iterator.RegisterVariable('basis', range(2,5))\n",
    "iterator.RegisterVariable('connectivity', np.arange(1,3,0.5))\n",
    "\n",
    "# It is important to notice that all static parameters will become variables if we declare it within the iterator. \n",
    "# For example, 'iterator.RegisterVariable('nodes', range(16,65))' will produce an experiment that variates the nodes from 16 to 64 even though we declared nodes  = 32 previously.\n",
    "\n",
    "# The iterator also accepts custom lists. For instance, 'iterator.RegisterVariable('basis', [2,3,5,7,11,13])'.\n",
    "\n",
    "# The iterator also accepts a list of particular graphs to test. For instance, 'iterator.RegisterVariable('graph', [graph1, graph2])'.\n",
    "# Or a list of graphs functions. For instance, 'iterator.RegisterVariable('graph_function', [graph_function1, graph_function2])'.\n",
    "# Only 'graph' or 'graph_function' may be declared at a time."
   ]
  },
  {
   "cell_type": "markdown",
   "id": "6a0a141e",
   "metadata": {},
   "source": [
    "# Dispatching an experiment"
   ]
  },
  {
   "cell_type": "code",
   "execution_count": null,
   "id": "0992f8bc",
   "metadata": {},
   "outputs": [],
   "source": [
    "execution.run_experiment(configuration)"
   ]
  },
  {
   "cell_type": "markdown",
   "id": "91050119",
   "metadata": {},
   "source": [
    "# Extracting data from an experiment"
   ]
  },
  {
   "cell_type": "code",
   "execution_count": null,
   "id": "d65259b4",
   "metadata": {},
   "outputs": [],
   "source": []
  }
 ],
 "metadata": {
  "kernelspec": {
   "display_name": "Python 3",
   "language": "python",
   "name": "python3"
  },
  "language_info": {
   "codemirror_mode": {
    "name": "ipython",
    "version": 3
   },
   "file_extension": ".py",
   "mimetype": "text/x-python",
   "name": "python",
   "nbconvert_exporter": "python",
   "pygments_lexer": "ipython3",
   "version": "3.8.5"
  }
 },
 "nbformat": 4,
 "nbformat_minor": 5
}